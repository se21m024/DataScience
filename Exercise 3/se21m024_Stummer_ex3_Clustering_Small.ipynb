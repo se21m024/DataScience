{
 "cells": [
  {
   "cell_type": "markdown",
   "metadata": {},
   "source": [
    "# Data Science\n",
    "# Exercise 3 (Part 1/3: Small Data Set)\n",
    "<br/>se21m024\n",
    "<br/>Thomas Stummer\n",
    "<br/>Small Dataset: Heart Disease\n",
    "<br/><br/>\n",
    "*The interpretation of the data can be found in the document <b><i>se21m024_Stummer_ex2_Dim_Reduction.pdf</i><b>.\n",
    "<br/><br/>\n",
    "Data taken from:\n",
    "<br/>https://archive.ics.uci.edu/ml/datasets/Heart+Disease\n",
    "<br/><br/>\n",
    "Data Creators:\n",
    "1. Hungarian Institute of Cardiology. Budapest: Andras Janosi, M.D.\n",
    "2. University Hospital, Zurich, Switzerland: William Steinbrunn, M.D.\n",
    "3. University Hospital, Basel, Switzerland: Matthias Pfisterer, M.D.\n",
    "4. V.A. MediMcal Center, Long Beach and Cleveland Clinic Foundation: Robert Detrano, M.D., Ph.D."
   ]
  },
  {
   "cell_type": "markdown",
   "metadata": {},
   "source": [
    "# Import necessary dependencies"
   ]
  },
  {
   "cell_type": "code",
   "execution_count": 1,
   "metadata": {},
   "outputs": [],
   "source": [
    "import pandas as pd\n",
    "import matplotlib.pyplot as plt\n",
    "from mpl_toolkits.mplot3d import Axes3D\n",
    "import matplotlib as mpl\n",
    "import numpy as np\n",
    "import seaborn as sns\n",
    "import math as math\n",
    "import itertools as it\n",
    "from sklearn.manifold import MDS\n",
    "import sklearn.datasets as dt\n",
    "from sklearn.metrics.pairwise import manhattan_distances, euclidean_distances\n",
    "from matplotlib.offsetbox import OffsetImage, AnnotationBbox\n",
    "from sklearn import cluster, datasets, mixture\n",
    "from sklearn.neighbors import kneighbors_graph\n",
    "from sklearn.preprocessing import StandardScaler\n",
    "from itertools import cycle, islice\n",
    "\n",
    "pd.options.display.max_columns = None\n",
    "\n",
    "%matplotlib inline"
   ]
  },
  {
   "cell_type": "markdown",
   "metadata": {},
   "source": [
    "# Load and merge datasets"
   ]
  },
  {
   "cell_type": "code",
   "execution_count": 2,
   "metadata": {},
   "outputs": [],
   "source": [
    "# Only examine processed data with a subset of 14 attributes\n",
    "\n",
    "columns = [\n",
    "    'Age', 'Sex', 'Chest Pain Type', 'Resting Blood Pressure', 'Serum Cholestoral', \n",
    "    'Increased Blood Sugar', 'Electrocardiographic', 'Peak Heart Rate', 'Angina', \n",
    "    'ST depression', 'Peak Exercise ST Segment', 'Major Vessels', 'Thal', 'Diagnosis']\n",
    "\n",
    "cleveland_raw_data = pd.read_csv('https://archive.ics.uci.edu/ml/machine-learning-databases/heart-disease/processed.cleveland.data', sep=',', names = columns, skipinitialspace=True)\n",
    "hungarian_raw_data = pd.read_csv('https://archive.ics.uci.edu/ml/machine-learning-databases/heart-disease/processed.hungarian.data', sep=',', names = columns, skipinitialspace=True)\n",
    "switzerland_raw_data = pd.read_csv('https://archive.ics.uci.edu/ml/machine-learning-databases/heart-disease/processed.switzerland.data', sep=',', names = columns, skipinitialspace=True)\n",
    "va_raw_data = pd.read_csv('https://archive.ics.uci.edu/ml/machine-learning-databases/heart-disease/processed.va.data', sep=',', names = columns, skipinitialspace=True)\n",
    "\n",
    "raw_data = pd.concat([cleveland_raw_data, hungarian_raw_data, switzerland_raw_data, va_raw_data])\n",
    "\n",
    "# re-shuffle records just to randomize data points\n",
    "raw_data = raw_data.sample(frac=1, random_state=42).reset_index(drop=True)\n",
    "#raw_data.head()\n"
   ]
  },
  {
   "cell_type": "markdown",
   "metadata": {},
   "source": [
    "# Filter and transform features"
   ]
  },
  {
   "cell_type": "code",
   "execution_count": 3,
   "metadata": {},
   "outputs": [
    {
     "name": "stdout",
     "output_type": "stream",
     "text": [
      "Number of data points: 216\n",
      "[[65.  1.  1. ...  0.  1.  1.]\n",
      " [69.  1.  2. ...  2.  1.  1.]\n",
      " [47.  2.  1. ...  0.  1.  1.]\n",
      " ...\n",
      " [64.  2.  2. ...  0.  1.  1.]\n",
      " [61.  2.  4. ...  1.  2.  2.]\n",
      " [57.  1.  4. ...  1.  1.  1.]]\n"
     ]
    }
   ],
   "source": [
    "data=raw_data\n",
    "\n",
    "### Helper functions\n",
    "\n",
    "def roundElementToIntSafe(y):\n",
    "    try:\n",
    "        return int(float(y))\n",
    "    except:\n",
    "        return None\n",
    "\n",
    "def roundToInt(x):\n",
    "    return x.apply(lambda value: roundElementToIntSafe(value))\n",
    "\n",
    "def parseFloatElementSafe(y):\n",
    "    try:\n",
    "        return float(y)\n",
    "    except:\n",
    "        return None\n",
    "\n",
    "def parseFloat(x):\n",
    "    return x.apply(lambda value: parseFloatElementSafe(value)) \n",
    "\n",
    "\n",
    "### Parse columns, assign categories, remove invalid records\n",
    "\n",
    "numericalColumns = []\n",
    "categoryColumns = []\n",
    "numericalCategoryColumns = []\n",
    "\n",
    "def processColumn(data, column, isFloat=False, categoryMapping=None, categories=None):\n",
    "\n",
    "    # Parse\n",
    "    if not isFloat:\n",
    "        data[column] = roundToInt(data[column])\n",
    "    else:\n",
    "        data[column] = parseFloat(data[column])\n",
    "\n",
    "    # (optional) Filter records that contain one or more invalid columns\n",
    "    data = data.drop(data[data[column].isnull()].index)\n",
    "\n",
    "    # Append to global array\n",
    "    if categoryMapping is None:\n",
    "        numericalColumns.append(column)\n",
    "    else:\n",
    "        numericalCategoryColumns.append(column)\n",
    "        categoryColumn = column\n",
    "        categoryColumns.append(categoryColumn)\n",
    "        data[categoryColumn] = data[column].apply(categoryMapping)\n",
    "    \t\n",
    "        # (optional) Filter records that contain one or more invalid columns\n",
    "        data = data.drop(data[data[categoryColumn].isnull()].index)\n",
    "\n",
    "        # Add category\n",
    "        data[categoryColumn] = pd.Categorical(data[categoryColumn], categories=categories)\n",
    "\n",
    "    return data\n",
    "\n",
    "# Age\n",
    "processColumn(data=data, column='Age')\n",
    "\n",
    "# Sex\n",
    "data = processColumn(data=data, column='Sex',\n",
    "categoryMapping=(lambda value: 'male' if value == 1 else 'female' if value == 0 else None), \n",
    "categories=['male', 'female'])\n",
    "\n",
    "# Chest Pain Type\n",
    "data = processColumn(data=data, column='Chest Pain Type',\n",
    "categoryMapping=(lambda value: 'typical angina' if value == 1 else 'atypical angina' if value == 2 else 'non-anginal pain' if value == 3 else 'asymptomatic' if value == 4 else None), \n",
    "categories=['typical angina', 'atypical angina', 'non-anginal pain', 'asymptomatic'])\n",
    "\n",
    "#  Resting Blood Pressure [mm Hg] (in mm Hg on admission to the hospital) \n",
    "data = processColumn(data=data, column='Resting Blood Pressure')\n",
    "\n",
    "# Serum Cholestoral in mg/dl \n",
    "data = processColumn(data=data, column='Serum Cholestoral')\n",
    "# Fix Serum Cholestoral = 0\n",
    "data['Serum Cholestoral'] = data['Serum Cholestoral'].apply(lambda value: value if value > 0 else None)\n",
    "\n",
    "# Fasting Blood Sugar > 120 mg/dl\n",
    "data = processColumn(data=data, column='Increased Blood Sugar',\n",
    "categoryMapping=(lambda value: 'True' if value == 1 else 'False' if value == 0 else None), \n",
    "categories=['True', 'False'])\n",
    "\n",
    "# Resting Electrocardiographic Results\n",
    "data = processColumn(data=data, column='Electrocardiographic',\n",
    "categoryMapping=(lambda value: 'normal' if value == 0 else 'abnormality' if value == 1 else 'hypertrophy' if value == 2 else None),\n",
    "categories=['normal', 'abnormality', 'hypertrophy'])\n",
    "\n",
    "# Maximum Heart Rate achieved \n",
    "data = processColumn(data=data, column='Peak Heart Rate')\n",
    "\n",
    "# Exercise induced Angina\n",
    "data = processColumn(data=data, column='Angina',\n",
    "categoryMapping=(lambda value: 'Yes' if value == 1 else 'No' if value == 0 else None),\n",
    "categories=['Yes', 'No'])\n",
    "\n",
    "# ST depression induced by exercise relative to rest \n",
    "data = processColumn(data=data, column='ST depression', isFloat=True)\n",
    "\n",
    "# Slope of the peak exercise ST segment\n",
    "data = processColumn(data=data, column='Peak Exercise ST Segment',\n",
    "categoryMapping=(lambda value: 'upsloping' if value == 1 else 'flat' if value == 2 else 'downsloping' if value == 3 else None), \n",
    "categories=['upsloping', 'flat', 'downsloping'])\n",
    "\n",
    "# Number of major vessels (0-3) colored by flourosopy\n",
    "data = processColumn(data=data, column='Major Vessels')\n",
    "\n",
    "# Thal\n",
    "data = processColumn(data=data, column='Thal',\n",
    "categoryMapping=(lambda value: 'normal' if value == 3 else 'fixed defect' if value == 6 else 'reversable defect' if value == 7 else None),\n",
    "categories=['normal', 'fixed defect', 'reversable defect'])\n",
    "\n",
    "# Diagnosis of heart disease (angiographic disease status)\n",
    "data = processColumn(data=data, column='Diagnosis',\n",
    "categoryMapping=(lambda value: '< 50% diameter narrowing' if value == 0 else '> 50% diameter narrowing' if value == 1 else None), \n",
    "categories=['< 50% diameter narrowing', '> 50% diameter narrowing'])\n",
    "\n",
    "#data.head()\n",
    "\n",
    "# Convert to categories\n",
    "for column in categoryColumns:\n",
    "    data[column] = pd.factorize(data[column])[0] + 1\n",
    "\n",
    "#data.head(5)\n",
    "\n",
    "def parseFloatElementSafe(y):\n",
    "    try:\n",
    "        return float(y)\n",
    "    except:\n",
    "        return None\n",
    "\n",
    "def parseFloat(x):\n",
    "    return x.apply(lambda value: parseFloatElementSafe(value)) \n",
    "\n",
    "data = data.apply(parseFloat) \n",
    "data = data.dropna()\n",
    "data_array = data.to_numpy()\n",
    "#print(\"Number of data points: \" + str(len(data_array)))\n",
    "#print(data_array)\n",
    "\n"
   ]
  },
  {
   "cell_type": "markdown",
   "metadata": {},
   "source": [
    "# Algorithm 1: Clustering\n"
   ]
  },
  {
   "cell_type": "code",
   "execution_count": 7,
   "metadata": {},
   "outputs": [
    {
     "name": "stderr",
     "output_type": "stream",
     "text": [
      "C:\\Users\\thomas.stummer\\Anaconda3\\lib\\site-packages\\sklearn\\cluster\\_kmeans.py:887: UserWarning: MiniBatchKMeans is known to have a memory leak on Windows with MKL, when there are less chunks than available threads. You can prevent it by setting batch_size >= 3072 or by setting the environment variable OMP_NUM_THREADS=1\n",
      "  warnings.warn(\n"
     ]
    },
    {
     "data": {
      "image/png": "[encoded data removed]",
      "text/plain": [
       "<Figure size 720x720 with 1 Axes>"
      ]
     },
     "metadata": {
      "needs_background": "light"
     },
     "output_type": "display_data"
    }
   ],
   "source": [
    "np.random.seed(0)\n",
    "\n",
    "default_base = {\n",
    "    \"quantile\": 0.3,\n",
    "    \"eps\": 0.3,\n",
    "    \"damping\": 0.9,\n",
    "    \"preference\": -200,\n",
    "    \"n_neighbors\": 10,\n",
    "    \"n_clusters\": 5,\n",
    "    \"min_samples\": 20,\n",
    "    \"xi\": 0.05,\n",
    "    \"min_cluster_size\": 0.1,\n",
    "}\n",
    "\n",
    "# update parameters with dataset-specific values\n",
    "params = default_base.copy()\n",
    "\n",
    "# Take only a subset of 1000 data points to make the result more compairable to the over algorithms\n",
    "sample_size = 10000\n",
    "data_array_subset = data_array[:sample_size,:]\n",
    "\n",
    "X = data_array_subset\n",
    "\n",
    "# normalize dataset for easier parameter selection\n",
    "X = StandardScaler().fit_transform(X)\n",
    "\n",
    "######### MiniBatch KMeans\n",
    "\n",
    "algorithm = cluster.MiniBatchKMeans(n_clusters=params[\"n_clusters\"])\n",
    "\n",
    "######### Average Linkage\n",
    "'''\n",
    "# connectivity matrix for structured Ward\n",
    "connectivity = kneighbors_graph(\n",
    "    X, n_neighbors=params[\"n_neighbors\"], include_self=False\n",
    ")\n",
    "# make connectivity symmetric\n",
    "connectivity = 0.5 * (connectivity + connectivity.T)\n",
    "\n",
    "algorithm = cluster.AgglomerativeClustering(\n",
    "    linkage=\"average\",\n",
    "    affinity=\"cityblock\",\n",
    "    n_clusters=params[\"n_clusters\"],\n",
    "    connectivity=connectivity    \n",
    ")\n",
    "'''\n",
    "######### DBSCAN\n",
    "\n",
    "#algorithm = cluster.DBSCAN(eps=params[\"eps\"])\n",
    "\n",
    "#########\n",
    "\n",
    "algorithm.fit(X)\n",
    "\n",
    "if hasattr(algorithm, \"labels_\"):\n",
    "    y_pred = algorithm.labels_.astype(int)\n",
    "else:\n",
    "    y_pred = algorithm.predict(X)\n",
    "\n",
    "colors = np.array(\n",
    "    list(\n",
    "        islice(\n",
    "            cycle(\n",
    "                [\n",
    "                    \"#377eb8\",\n",
    "                    \"#ff7f00\",\n",
    "                    \"#4daf4a\",\n",
    "                    \"#f781bf\",\n",
    "                    \"#a65628\",\n",
    "                    \"#984ea3\",\n",
    "                    \"#999999\",\n",
    "                    \"#e41a1c\",\n",
    "                    \"#dede00\",\n",
    "                ]\n",
    "            ),\n",
    "            int(max(y_pred) + 1),\n",
    "        )\n",
    "    )\n",
    ")\n",
    "# add black color for outliers (if any)\n",
    "colors = np.append(colors, [\"#000000\"])\n",
    "\n",
    "fig = plt.figure(2, (10,10))\n",
    "plt.scatter(X[:, 0], X[:, 1], s=10, color=colors[y_pred])\n",
    "plt.title('MiniBatch KMeans')\n",
    "plt.xlabel(\"Coordinate 1\")\n",
    "plt.ylabel(\"Coordinate 2\")\n",
    "plt.show()\n"
   ]
  },
  {
   "cell_type": "markdown",
   "metadata": {},
   "source": [
    "# Algorithm 2: MDS\n"
   ]
  },
  {
   "cell_type": "code",
   "execution_count": 16,
   "metadata": {},
   "outputs": [
    {
     "data": {
      "image/png": "[encoded data removed]",
      "text/plain": [
       "<Figure size 1080x720 with 1 Axes>"
      ]
     },
     "metadata": {
      "needs_background": "light"
     },
     "output_type": "display_data"
    }
   ],
   "source": [
    "mds = MDS(random_state=0)\n",
    "principal_components = mds.fit_transform(data_array)\n",
    "principal_df = pd.DataFrame(data = principal_components)\n",
    "principle_array = principal_df.to_numpy()\n",
    "\n",
    "fig = plt.figure(2, (15,10))\n",
    "plt.scatter(principle_array[:,0], principle_array[:,1])\n",
    "plt.title('2D Multidimensional Scaling')\n",
    "plt.xlabel(\"Coordinate 1\")\n",
    "plt.ylabel(\"Coordinate 2\")\n",
    "plt.show()"
   ]
  },
  {
   "cell_type": "markdown",
   "metadata": {},
   "source": [
    "# Algorithm 3: t-SNE\n"
   ]
  },
  {
   "cell_type": "code",
   "execution_count": 17,
   "metadata": {},
   "outputs": [
    {
     "data": {
      "image/png": "[encoded data removed]",
      "text/plain": [
       "<Figure size 1080x720 with 1 Axes>"
      ]
     },
     "metadata": {
      "needs_background": "light"
     },
     "output_type": "display_data"
    }
   ],
   "source": [
    "tsne = TSNE(n_components=2, random_state=123)\n",
    "principal_components = tsne.fit_transform(data_array)\n",
    "principal_df = pd.DataFrame(data = principal_components)\n",
    "principle_array = principal_df.to_numpy()\n",
    "\n",
    "fig = plt.figure(2, (15,10))\n",
    "plt.scatter(principle_array[:,0], principle_array[:,1])\n",
    "plt.title('2D t-SNE')\n",
    "plt.xlabel(\"Coordinate 1\")\n",
    "plt.ylabel(\"Coordinate 2\")\n",
    "plt.show()"
   ]
  }
 ],
 "metadata": {
  "anaconda-cloud": {},
  "kernelspec": {
   "display_name": "Python 3 (ipykernel)",
   "language": "python",
   "name": "python3"
  },
  "language_info": {
   "codemirror_mode": {
    "name": "ipython",
    "version": 3
   },
   "file_extension": ".py",
   "mimetype": "text/x-python",
   "name": "python",
   "nbconvert_exporter": "python",
   "pygments_lexer": "ipython3",
   "version": "3.9.7"
  }
 },
 "nbformat": 4,
 "nbformat_minor": 1
}
