{
 "cells": [
  {
   "cell_type": "markdown",
   "metadata": {},
   "source": [
    "# Data Science\n",
    "# Exercise 2 (Part 1/2: Small Data Set)\n",
    "<br/>se21m024\n",
    "<br/>Thomas Stummer\n",
    "<br/>Small Dataset: Heart Disease\n",
    "<br/><br/>\n",
    "*The interpretation of the data can be found in the document <b><i>se21m024_Stummer_ex2_Dim_Reduction.pdf</i><b>.\n",
    "<br/><br/>\n",
    "Data taken from:\n",
    "<br/>https://archive.ics.uci.edu/ml/datasets/Heart+Disease\n",
    "<br/><br/>\n",
    "Data Creators:\n",
    "1. Hungarian Institute of Cardiology. Budapest: Andras Janosi, M.D.\n",
    "2. University Hospital, Zurich, Switzerland: William Steinbrunn, M.D.\n",
    "3. University Hospital, Basel, Switzerland: Matthias Pfisterer, M.D.\n",
    "4. V.A. MediMcal Center, Long Beach and Cleveland Clinic Foundation: Robert Detrano, M.D., Ph.D."
   ]
  },
  {
   "cell_type": "markdown",
   "metadata": {},
   "source": [
    "# Import necessary dependencies"
   ]
  },
  {
   "cell_type": "code",
   "execution_count": 95,
   "metadata": {},
   "outputs": [],
   "source": [
    "import pandas as pd\n",
    "import matplotlib.pyplot as plt\n",
    "from mpl_toolkits.mplot3d import Axes3D\n",
    "import matplotlib as mpl\n",
    "import numpy as np\n",
    "import seaborn as sns\n",
    "import math as math\n",
    "import itertools as it\n",
    "\n",
    "from sklearn.manifold import MDS\n",
    "import sklearn.datasets as dt\n",
    "from sklearn.metrics.pairwise import manhattan_distances, euclidean_distances\n",
    "from matplotlib.offsetbox import OffsetImage, AnnotationBbox\n",
    "\n",
    "pd.options.display.max_columns = None\n",
    "\n",
    "%matplotlib inline"
   ]
  },
  {
   "cell_type": "markdown",
   "metadata": {},
   "source": [
    "# Load and merge datasets"
   ]
  },
  {
   "cell_type": "code",
   "execution_count": 96,
   "metadata": {},
   "outputs": [
    {
     "data": {
      "text/html": [
       "<div>\n",
       "<style scoped>\n",
       "    .dataframe tbody tr th:only-of-type {\n",
       "        vertical-align: middle;\n",
       "    }\n",
       "\n",
       "    .dataframe tbody tr th {\n",
       "        vertical-align: top;\n",
       "    }\n",
       "\n",
       "    .dataframe thead th {\n",
       "        text-align: right;\n",
       "    }\n",
       "</style>\n",
       "<table border=\"1\" class=\"dataframe\">\n",
       "  <thead>\n",
       "    <tr style=\"text-align: right;\">\n",
       "      <th></th>\n",
       "      <th>Age</th>\n",
       "      <th>Sex</th>\n",
       "      <th>Chest Pain Type</th>\n",
       "      <th>Resting Blood Pressure</th>\n",
       "      <th>Serum Cholestoral</th>\n",
       "      <th>Increased Blood Sugar</th>\n",
       "      <th>Electrocardiographic</th>\n",
       "      <th>Peak Heart Rate</th>\n",
       "      <th>Angina</th>\n",
       "      <th>ST depression</th>\n",
       "      <th>Peak Exercise ST Segment</th>\n",
       "      <th>Major Vessels</th>\n",
       "      <th>Thal</th>\n",
       "      <th>Diagnosis</th>\n",
       "    </tr>\n",
       "  </thead>\n",
       "  <tbody>\n",
       "    <tr>\n",
       "      <th>0</th>\n",
       "      <td>63.0</td>\n",
       "      <td>1.0</td>\n",
       "      <td>1.0</td>\n",
       "      <td>145</td>\n",
       "      <td>233</td>\n",
       "      <td>1</td>\n",
       "      <td>2</td>\n",
       "      <td>150</td>\n",
       "      <td>0</td>\n",
       "      <td>2.3</td>\n",
       "      <td>3</td>\n",
       "      <td>0.0</td>\n",
       "      <td>6.0</td>\n",
       "      <td>0</td>\n",
       "    </tr>\n",
       "    <tr>\n",
       "      <th>1</th>\n",
       "      <td>67.0</td>\n",
       "      <td>1.0</td>\n",
       "      <td>4.0</td>\n",
       "      <td>160</td>\n",
       "      <td>286</td>\n",
       "      <td>0</td>\n",
       "      <td>2</td>\n",
       "      <td>108</td>\n",
       "      <td>1</td>\n",
       "      <td>1.5</td>\n",
       "      <td>2</td>\n",
       "      <td>3.0</td>\n",
       "      <td>3.0</td>\n",
       "      <td>2</td>\n",
       "    </tr>\n",
       "    <tr>\n",
       "      <th>2</th>\n",
       "      <td>67.0</td>\n",
       "      <td>1.0</td>\n",
       "      <td>4.0</td>\n",
       "      <td>120</td>\n",
       "      <td>229</td>\n",
       "      <td>0</td>\n",
       "      <td>2</td>\n",
       "      <td>129</td>\n",
       "      <td>1</td>\n",
       "      <td>2.6</td>\n",
       "      <td>2</td>\n",
       "      <td>2.0</td>\n",
       "      <td>7.0</td>\n",
       "      <td>1</td>\n",
       "    </tr>\n",
       "    <tr>\n",
       "      <th>3</th>\n",
       "      <td>37.0</td>\n",
       "      <td>1.0</td>\n",
       "      <td>3.0</td>\n",
       "      <td>130</td>\n",
       "      <td>250</td>\n",
       "      <td>0</td>\n",
       "      <td>0</td>\n",
       "      <td>187</td>\n",
       "      <td>0</td>\n",
       "      <td>3.5</td>\n",
       "      <td>3</td>\n",
       "      <td>0.0</td>\n",
       "      <td>3.0</td>\n",
       "      <td>0</td>\n",
       "    </tr>\n",
       "    <tr>\n",
       "      <th>4</th>\n",
       "      <td>41.0</td>\n",
       "      <td>0.0</td>\n",
       "      <td>2.0</td>\n",
       "      <td>130</td>\n",
       "      <td>204</td>\n",
       "      <td>0</td>\n",
       "      <td>2</td>\n",
       "      <td>172</td>\n",
       "      <td>0</td>\n",
       "      <td>1.4</td>\n",
       "      <td>1</td>\n",
       "      <td>0.0</td>\n",
       "      <td>3.0</td>\n",
       "      <td>0</td>\n",
       "    </tr>\n",
       "  </tbody>\n",
       "</table>\n",
       "</div>"
      ],
      "text/plain": [
       "    Age  Sex  Chest Pain Type Resting Blood Pressure Serum Cholestoral  \\\n",
       "0  63.0  1.0              1.0                    145               233   \n",
       "1  67.0  1.0              4.0                    160               286   \n",
       "2  67.0  1.0              4.0                    120               229   \n",
       "3  37.0  1.0              3.0                    130               250   \n",
       "4  41.0  0.0              2.0                    130               204   \n",
       "\n",
       "  Increased Blood Sugar Electrocardiographic Peak Heart Rate Angina  \\\n",
       "0                     1                    2             150      0   \n",
       "1                     0                    2             108      1   \n",
       "2                     0                    2             129      1   \n",
       "3                     0                    0             187      0   \n",
       "4                     0                    2             172      0   \n",
       "\n",
       "  ST depression Peak Exercise ST Segment Major Vessels Thal  Diagnosis  \n",
       "0           2.3                        3           0.0  6.0          0  \n",
       "1           1.5                        2           3.0  3.0          2  \n",
       "2           2.6                        2           2.0  7.0          1  \n",
       "3           3.5                        3           0.0  3.0          0  \n",
       "4           1.4                        1           0.0  3.0          0  "
      ]
     },
     "execution_count": 96,
     "metadata": {},
     "output_type": "execute_result"
    }
   ],
   "source": [
    "# Only examine processed data with a subset of 14 attributes\n",
    "\n",
    "columns = [\n",
    "    'Age', 'Sex', 'Chest Pain Type', 'Resting Blood Pressure', 'Serum Cholestoral', \n",
    "    'Increased Blood Sugar', 'Electrocardiographic', 'Peak Heart Rate', 'Angina', \n",
    "    'ST depression', 'Peak Exercise ST Segment', 'Major Vessels', 'Thal', 'Diagnosis']\n",
    "\n",
    "cleveland_raw_data = pd.read_csv('https://archive.ics.uci.edu/ml/machine-learning-databases/heart-disease/processed.cleveland.data', sep=',', names = columns, skipinitialspace=True)\n",
    "hungarian_raw_data = pd.read_csv('https://archive.ics.uci.edu/ml/machine-learning-databases/heart-disease/processed.hungarian.data', sep=',', names = columns, skipinitialspace=True)\n",
    "switzerland_raw_data = pd.read_csv('https://archive.ics.uci.edu/ml/machine-learning-databases/heart-disease/processed.switzerland.data', sep=',', names = columns, skipinitialspace=True)\n",
    "va_raw_data = pd.read_csv('https://archive.ics.uci.edu/ml/machine-learning-databases/heart-disease/processed.va.data', sep=',', names = columns, skipinitialspace=True)\n",
    "\n",
    "raw_data = pd.concat([cleveland_raw_data, hungarian_raw_data, switzerland_raw_data, va_raw_data])\n",
    "\n",
    "# re-shuffle records just to randomize data points\n",
    "#raw_data = raw_data.sample(frac=1, random_state=42).reset_index(drop=True)\n",
    "raw_data.head()\n"
   ]
  },
  {
   "cell_type": "markdown",
   "metadata": {},
   "source": [
    "# Show dataset features and values"
   ]
  },
  {
   "cell_type": "code",
   "execution_count": 97,
   "metadata": {},
   "outputs": [
    {
     "data": {
      "text/html": [
       "<div>\n",
       "<style scoped>\n",
       "    .dataframe tbody tr th:only-of-type {\n",
       "        vertical-align: middle;\n",
       "    }\n",
       "\n",
       "    .dataframe tbody tr th {\n",
       "        vertical-align: top;\n",
       "    }\n",
       "\n",
       "    .dataframe thead th {\n",
       "        text-align: right;\n",
       "    }\n",
       "</style>\n",
       "<table border=\"1\" class=\"dataframe\">\n",
       "  <thead>\n",
       "    <tr style=\"text-align: right;\">\n",
       "      <th></th>\n",
       "      <th>Age</th>\n",
       "      <th>Sex</th>\n",
       "      <th>Chest Pain Type</th>\n",
       "      <th>Resting Blood Pressure</th>\n",
       "      <th>Serum Cholestoral</th>\n",
       "      <th>Increased Blood Sugar</th>\n",
       "      <th>Electrocardiographic</th>\n",
       "      <th>Peak Heart Rate</th>\n",
       "      <th>Angina</th>\n",
       "      <th>ST depression</th>\n",
       "      <th>Peak Exercise ST Segment</th>\n",
       "      <th>Major Vessels</th>\n",
       "      <th>Thal</th>\n",
       "      <th>Diagnosis</th>\n",
       "    </tr>\n",
       "  </thead>\n",
       "  <tbody>\n",
       "    <tr>\n",
       "      <th>0</th>\n",
       "      <td>63</td>\n",
       "      <td>male</td>\n",
       "      <td>typical angina</td>\n",
       "      <td>145.0</td>\n",
       "      <td>233.0</td>\n",
       "      <td>True</td>\n",
       "      <td>hypertrophy</td>\n",
       "      <td>150.0</td>\n",
       "      <td>No</td>\n",
       "      <td>2.3</td>\n",
       "      <td>downsloping</td>\n",
       "      <td>0.0</td>\n",
       "      <td>fixed defect</td>\n",
       "      <td>&lt; 50% diameter narrowing</td>\n",
       "    </tr>\n",
       "    <tr>\n",
       "      <th>1</th>\n",
       "      <td>67</td>\n",
       "      <td>male</td>\n",
       "      <td>asymptomatic</td>\n",
       "      <td>160.0</td>\n",
       "      <td>286.0</td>\n",
       "      <td>False</td>\n",
       "      <td>hypertrophy</td>\n",
       "      <td>108.0</td>\n",
       "      <td>Yes</td>\n",
       "      <td>1.5</td>\n",
       "      <td>flat</td>\n",
       "      <td>3.0</td>\n",
       "      <td>normal</td>\n",
       "      <td>NaN</td>\n",
       "    </tr>\n",
       "    <tr>\n",
       "      <th>2</th>\n",
       "      <td>67</td>\n",
       "      <td>male</td>\n",
       "      <td>asymptomatic</td>\n",
       "      <td>120.0</td>\n",
       "      <td>229.0</td>\n",
       "      <td>False</td>\n",
       "      <td>hypertrophy</td>\n",
       "      <td>129.0</td>\n",
       "      <td>Yes</td>\n",
       "      <td>2.6</td>\n",
       "      <td>flat</td>\n",
       "      <td>2.0</td>\n",
       "      <td>reversable defect</td>\n",
       "      <td>&gt; 50% diameter narrowing</td>\n",
       "    </tr>\n",
       "    <tr>\n",
       "      <th>3</th>\n",
       "      <td>37</td>\n",
       "      <td>male</td>\n",
       "      <td>non-anginal pain</td>\n",
       "      <td>130.0</td>\n",
       "      <td>250.0</td>\n",
       "      <td>False</td>\n",
       "      <td>normal</td>\n",
       "      <td>187.0</td>\n",
       "      <td>No</td>\n",
       "      <td>3.5</td>\n",
       "      <td>downsloping</td>\n",
       "      <td>0.0</td>\n",
       "      <td>normal</td>\n",
       "      <td>&lt; 50% diameter narrowing</td>\n",
       "    </tr>\n",
       "    <tr>\n",
       "      <th>4</th>\n",
       "      <td>41</td>\n",
       "      <td>female</td>\n",
       "      <td>atypical angina</td>\n",
       "      <td>130.0</td>\n",
       "      <td>204.0</td>\n",
       "      <td>False</td>\n",
       "      <td>hypertrophy</td>\n",
       "      <td>172.0</td>\n",
       "      <td>No</td>\n",
       "      <td>1.4</td>\n",
       "      <td>upsloping</td>\n",
       "      <td>0.0</td>\n",
       "      <td>normal</td>\n",
       "      <td>&lt; 50% diameter narrowing</td>\n",
       "    </tr>\n",
       "  </tbody>\n",
       "</table>\n",
       "</div>"
      ],
      "text/plain": [
       "   Age     Sex   Chest Pain Type  Resting Blood Pressure  Serum Cholestoral  \\\n",
       "0   63    male    typical angina                   145.0              233.0   \n",
       "1   67    male      asymptomatic                   160.0              286.0   \n",
       "2   67    male      asymptomatic                   120.0              229.0   \n",
       "3   37    male  non-anginal pain                   130.0              250.0   \n",
       "4   41  female   atypical angina                   130.0              204.0   \n",
       "\n",
       "  Increased Blood Sugar Electrocardiographic  Peak Heart Rate Angina  \\\n",
       "0                  True          hypertrophy            150.0     No   \n",
       "1                 False          hypertrophy            108.0    Yes   \n",
       "2                 False          hypertrophy            129.0    Yes   \n",
       "3                 False               normal            187.0     No   \n",
       "4                 False          hypertrophy            172.0     No   \n",
       "\n",
       "   ST depression Peak Exercise ST Segment  Major Vessels               Thal  \\\n",
       "0            2.3              downsloping            0.0       fixed defect   \n",
       "1            1.5                     flat            3.0             normal   \n",
       "2            2.6                     flat            2.0  reversable defect   \n",
       "3            3.5              downsloping            0.0             normal   \n",
       "4            1.4                upsloping            0.0             normal   \n",
       "\n",
       "                  Diagnosis  \n",
       "0  < 50% diameter narrowing  \n",
       "1                       NaN  \n",
       "2  > 50% diameter narrowing  \n",
       "3  < 50% diameter narrowing  \n",
       "4  < 50% diameter narrowing  "
      ]
     },
     "execution_count": 97,
     "metadata": {},
     "output_type": "execute_result"
    }
   ],
   "source": [
    "data=raw_data\n",
    "\n",
    "### Helper functions\n",
    "\n",
    "def roundElementToIntSafe(y):\n",
    "    try:\n",
    "        return int(float(y))\n",
    "    except:\n",
    "        return None\n",
    "\n",
    "def roundToInt(x):\n",
    "    return x.apply(lambda value: roundElementToIntSafe(value))\n",
    "\n",
    "def parseFloatElementSafe(y):\n",
    "    try:\n",
    "        return float(y)\n",
    "    except:\n",
    "        return None\n",
    "\n",
    "def parseFloat(x):\n",
    "    return x.apply(lambda value: parseFloatElementSafe(value)) \n",
    "\n",
    "\n",
    "### Parse columns, assign categories, remove invalid records\n",
    "\n",
    "numericalColumns = []\n",
    "categoryColumns = []\n",
    "numericalCategoryColumns = []\n",
    "\n",
    "def processColumn(data, column, isFloat=False, categoryMapping=None, categories=None):\n",
    "\n",
    "    # Parse\n",
    "    if not isFloat:\n",
    "        data[column] = roundToInt(data[column])\n",
    "    else:\n",
    "        data[column] = parseFloat(data[column])\n",
    "\n",
    "    # (optional) Filter records that contain one or more invalid columns\n",
    "    #data = data.drop(data[data[column].isnull()].index)\n",
    "\n",
    "    # Append to global array\n",
    "    if categoryMapping is None:\n",
    "        numericalColumns.append(column)\n",
    "    else:\n",
    "        numericalCategoryColumns.append(column)\n",
    "        categoryColumn = column\n",
    "        categoryColumns.append(categoryColumn)\n",
    "        data[categoryColumn] = data[column].apply(categoryMapping)\n",
    "    \t\n",
    "        # (optional) Filter records that contain one or more invalid columns\n",
    "        #data = data.drop(data[data[categoryColumn].isnull()].index)\n",
    "\n",
    "        # Add category\n",
    "        data[categoryColumn] = pd.Categorical(data[categoryColumn], categories=categories)\n",
    "\n",
    "    return data\n",
    "\n",
    "# Age\n",
    "processColumn(data=data, column='Age')\n",
    "\n",
    "# Sex\n",
    "data = processColumn(data=data, column='Sex',\n",
    "categoryMapping=(lambda value: 'male' if value == 1 else 'female' if value == 0 else None), \n",
    "categories=['male', 'female'])\n",
    "\n",
    "# Chest Pain Type\n",
    "data = processColumn(data=data, column='Chest Pain Type',\n",
    "categoryMapping=(lambda value: 'typical angina' if value == 1 else 'atypical angina' if value == 2 else 'non-anginal pain' if value == 3 else 'asymptomatic' if value == 4 else None), \n",
    "categories=['typical angina', 'atypical angina', 'non-anginal pain', 'asymptomatic'])\n",
    "\n",
    "#  Resting Blood Pressure [mm Hg] (in mm Hg on admission to the hospital) \n",
    "data = processColumn(data=data, column='Resting Blood Pressure')\n",
    "\n",
    "# Serum Cholestoral in mg/dl \n",
    "data = processColumn(data=data, column='Serum Cholestoral')\n",
    "# Fix Serum Cholestoral = 0\n",
    "data['Serum Cholestoral'] = data['Serum Cholestoral'].apply(lambda value: value if value > 0 else None)\n",
    "\n",
    "# Fasting Blood Sugar > 120 mg/dl\n",
    "data = processColumn(data=data, column='Increased Blood Sugar',\n",
    "categoryMapping=(lambda value: 'True' if value == 1 else 'False' if value == 0 else None), \n",
    "categories=['True', 'False'])\n",
    "\n",
    "# Resting Electrocardiographic Results\n",
    "data = processColumn(data=data, column='Electrocardiographic',\n",
    "categoryMapping=(lambda value: 'normal' if value == 0 else 'abnormality' if value == 1 else 'hypertrophy' if value == 2 else None),\n",
    "categories=['normal', 'abnormality', 'hypertrophy'])\n",
    "\n",
    "# Maximum Heart Rate achieved \n",
    "data = processColumn(data=data, column='Peak Heart Rate')\n",
    "\n",
    "# Exercise induced Angina\n",
    "data = processColumn(data=data, column='Angina',\n",
    "categoryMapping=(lambda value: 'Yes' if value == 1 else 'No' if value == 0 else None),\n",
    "categories=['Yes', 'No'])\n",
    "\n",
    "# ST depression induced by exercise relative to rest \n",
    "data = processColumn(data=data, column='ST depression', isFloat=True)\n",
    "\n",
    "# Slope of the peak exercise ST segment\n",
    "data = processColumn(data=data, column='Peak Exercise ST Segment',\n",
    "categoryMapping=(lambda value: 'upsloping' if value == 1 else 'flat' if value == 2 else 'downsloping' if value == 3 else None), \n",
    "categories=['upsloping', 'flat', 'downsloping'])\n",
    "\n",
    "# Number of major vessels (0-3) colored by flourosopy\n",
    "data = processColumn(data=data, column='Major Vessels')\n",
    "\n",
    "# Thal\n",
    "data = processColumn(data=data, column='Thal',\n",
    "categoryMapping=(lambda value: 'normal' if value == 3 else 'fixed defect' if value == 6 else 'reversable defect' if value == 7 else None),\n",
    "categories=['normal', 'fixed defect', 'reversable defect'])\n",
    "\n",
    "# Diagnosis of heart disease (angiographic disease status)\n",
    "data = processColumn(data=data, column='Diagnosis',\n",
    "categoryMapping=(lambda value: '< 50% diameter narrowing' if value == 0 else '> 50% diameter narrowing' if value == 1 else None), \n",
    "categories=['< 50% diameter narrowing', '> 50% diameter narrowing'])\n",
    "\n",
    "data.head()\n",
    "\n"
   ]
  },
  {
   "cell_type": "markdown",
   "metadata": {},
   "source": [
    "# Exploratory Data Analysis and Visualizations"
   ]
  },
  {
   "cell_type": "markdown",
   "metadata": {},
   "source": [
    "## Descriptive Statistics"
   ]
  },
  {
   "cell_type": "markdown",
   "metadata": {},
   "source": [
    "# Univariate Analysis"
   ]
  },
  {
   "cell_type": "markdown",
   "metadata": {},
   "source": [
    "## Visualizing one dimension"
   ]
  },
  {
   "cell_type": "markdown",
   "metadata": {},
   "source": [
    "### Distribution overview for categorical features"
   ]
  },
  {
   "cell_type": "markdown",
   "metadata": {},
   "source": [
    "## Ex 2"
   ]
  },
  {
   "cell_type": "code",
   "execution_count": 98,
   "metadata": {},
   "outputs": [
    {
     "name": "stdout",
     "output_type": "stream",
     "text": [
      "216\n",
      "[[63.  1.  1. ...  0.  1.  1.]\n",
      " [67.  1.  2. ...  2.  2.  2.]\n",
      " [37.  1.  3. ...  0.  3.  1.]\n",
      " ...\n",
      " [57.  2.  4. ...  1.  3.  2.]\n",
      " [47.  1.  2. ...  0.  2.  2.]\n",
      " [56.  1.  2. ...  0.  2.  2.]]\n"
     ]
    },
    {
     "name": "stderr",
     "output_type": "stream",
     "text": [
      "C:\\Users\\thomas.stummer\\AppData\\Local\\Temp\\ipykernel_35192\\3689875842.py:19: SettingWithCopyWarning: \n",
      "A value is trying to be set on a copy of a slice from a DataFrame.\n",
      "Try using .loc[row_indexer,col_indexer] = value instead\n",
      "\n",
      "See the caveats in the documentation: https://pandas.pydata.org/pandas-docs/stable/user_guide/indexing.html#returning-a-view-versus-a-copy\n",
      "  b[column] = pd.factorize(b[column])[0] + 1\n"
     ]
    }
   ],
   "source": [
    "\n",
    "\n",
    "def parseFloatElementSafe(y):\n",
    "    try:\n",
    "        return float(y)\n",
    "    except:\n",
    "        return None\n",
    "\n",
    "def parseFloat(x):\n",
    "    return x.apply(lambda value: parseFloatElementSafe(value)) \n",
    "\n",
    "#print(raw_data)\n",
    "\n",
    "#b = raw_data.apply(parseFloat)\n",
    "b = data\n",
    "#print(b)\n",
    "b = b.dropna()\n",
    "\n",
    "# Convert to categories\n",
    "for column in categoryColumns:\n",
    "    b[column] = pd.factorize(b[column])[0] + 1\n",
    "\n",
    "a = b.to_numpy()\n",
    "print(len(a))\n",
    "print(a)"
   ]
  },
  {
   "cell_type": "markdown",
   "metadata": {},
   "source": [
    "# Algorithm 1: PCA\n"
   ]
  },
  {
   "cell_type": "code",
   "execution_count": 99,
   "metadata": {},
   "outputs": [
    {
     "data": {
      "image/png": "[encoded data removed]",
      "text/plain": [
       "<Figure size 1440x720 with 1 Axes>"
      ]
     },
     "metadata": {
      "needs_background": "light"
     },
     "output_type": "display_data"
    }
   ],
   "source": [
    "from sklearn.decomposition import PCA\n",
    "\n",
    "pca = PCA(n_components=2)\n",
    "principalComponents = pca.fit_transform(a)\n",
    "principalDf = pd.DataFrame(data = principalComponents, columns = ['principal component 1', 'principal component 2'])\n",
    "\n",
    "x = principalDf.to_numpy()\n",
    "#print(x)\n",
    "\n",
    "fig = plt.figure(2, (20,10))\n",
    "# ax = fig.add_subplot(121, projection='3d')\n",
    "# plt.scatter(X[:,0], X[:,1], zs=X[:,2], s=size, c=colors)\n",
    "# plt.title('Original Points')\n",
    "\n",
    "ax = fig.add_subplot(122)\n",
    "plt.scatter(x[:,0], x[:,1])#, s=size, c=colors)\n",
    "plt.title('Embedding in 2D')\n",
    "fig.subplots_adjust(wspace=.4, hspace=0.5)\n",
    "plt.show()\n",
    "\n",
    "#ax.legend(targets)\n",
    "ax.grid()\n"
   ]
  },
  {
   "cell_type": "markdown",
   "metadata": {},
   "source": [
    "# Algorithm 2: MDS\n"
   ]
  },
  {
   "cell_type": "code",
   "execution_count": 100,
   "metadata": {},
   "outputs": [
    {
     "data": {
      "image/png": "[encoded data removed]",
      "text/plain": [
       "<Figure size 1440x720 with 1 Axes>"
      ]
     },
     "metadata": {
      "needs_background": "light"
     },
     "output_type": "display_data"
    }
   ],
   "source": [
    "X = np.array(a)\n",
    "mds = MDS(random_state=0)\n",
    "X_transform = mds.fit_transform(X)\n",
    "#print(X_transform)\n",
    "\n",
    "\n",
    "#colors = ['r', 'g', 'b', 'c', 'm']\n",
    "#size = [64, 64, 64, 64, 64]\n",
    "fig = plt.figure(2, (20,10))\n",
    "# ax = fig.add_subplot(121, projection='3d')\n",
    "# plt.scatter(X[:,0], X[:,1], zs=X[:,2], s=size, c=colors)\n",
    "# plt.title('Original Points')\n",
    "\n",
    "ax = fig.add_subplot(122)\n",
    "plt.scatter(X_transform[:,0], X_transform[:,1])#, s=size, c=colors)\n",
    "plt.title('Embedding in 2D')\n",
    "fig.subplots_adjust(wspace=.4, hspace=0.5)\n",
    "plt.show()\n",
    "\n"
   ]
  },
  {
   "cell_type": "markdown",
   "metadata": {},
   "source": [
    "# Algorithm 3: t-SNE\n"
   ]
  },
  {
   "cell_type": "code",
   "execution_count": 101,
   "metadata": {},
   "outputs": [
    {
     "name": "stdout",
     "output_type": "stream",
     "text": [
      "[t-SNE] Computing 91 nearest neighbors...\n",
      "[t-SNE] Indexed 216 samples in 0.001s...\n",
      "[t-SNE] Computed neighbors for 216 samples in 0.005s...\n",
      "[t-SNE] Computed conditional probabilities for sample 216 / 216\n",
      "[t-SNE] Mean sigma: 18.428597\n",
      "[t-SNE] KL divergence after 250 iterations with early exaggeration: 59.071266\n",
      "[t-SNE] KL divergence after 750 iterations: 0.421715\n"
     ]
    },
    {
     "data": {
      "image/png": "[encoded data removed]",
      "text/plain": [
       "<Figure size 1440x720 with 1 Axes>"
      ]
     },
     "metadata": {
      "needs_background": "light"
     },
     "output_type": "display_data"
    }
   ],
   "source": [
    "from sklearn.manifold import TSNE\n",
    "\n",
    "tsne = TSNE(n_components=2, random_state=123)\n",
    "z = tsne.fit_transform(a) \n",
    "\n",
    "some_data = z\n",
    "\n",
    "fig = plt.figure(2, (20,10))\n",
    "ax = fig.add_subplot(122)\n",
    "plt.scatter(some_data[:,0], some_data[:,1])#, s=size, c=colors)\n",
    "plt.title('Embedding in 2D')\n",
    "fig.subplots_adjust(wspace=.4, hspace=0.5)\n",
    "plt.show()"
   ]
  },
  {
   "cell_type": "code",
   "execution_count": 102,
   "metadata": {},
   "outputs": [
    {
     "data": {
      "image/png": "[encoded data removed]",
      "text/plain": [
       "<Figure size 1440x720 with 1 Axes>"
      ]
     },
     "metadata": {
      "needs_background": "light"
     },
     "output_type": "display_data"
    }
   ],
   "source": [
    "from sklearn.manifold import TSNE\n",
    "\n",
    "tsne = TSNE(n_components=3, random_state=123)\n",
    "z = tsne.fit_transform(a) \n",
    "\n",
    "some_data = z\n",
    "\n",
    "fig = plt.figure(2, (20,10))\n",
    "ax = fig.add_subplot(122)\n",
    "plt.scatter(some_data[:,0], some_data[:,1])#, s=size, c=colors)\n",
    "plt.title('Embedding in 2D')\n",
    "fig.subplots_adjust(wspace=.4, hspace=0.5)\n",
    "plt.show()"
   ]
  }
 ],
 "metadata": {
  "anaconda-cloud": {},
  "kernelspec": {
   "display_name": "Python 3 (ipykernel)",
   "language": "python",
   "name": "python3"
  },
  "language_info": {
   "codemirror_mode": {
    "name": "ipython",
    "version": 3
   },
   "file_extension": ".py",
   "mimetype": "text/x-python",
   "name": "python",
   "nbconvert_exporter": "python",
   "pygments_lexer": "ipython3",
   "version": "3.8.5"
  }
 },
 "nbformat": 4,
 "nbformat_minor": 1
}
