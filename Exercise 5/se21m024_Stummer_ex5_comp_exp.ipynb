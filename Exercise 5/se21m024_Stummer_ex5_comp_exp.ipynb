{
 "cells": [
  {
   "cell_type": "markdown",
   "metadata": {},
   "source": [
    "# Data Science\n",
    "# Exercise 5 - Comparative Experimentation\n",
    "<br/>Student:\n",
    "<br/>se21m024\n",
    "<br/>Thomas Stummer\n",
    "<br/><br/>The interpretation of the data can be found in the document <b><i>se21m024_Stummer_ex5_comp_exp.pdf</i></b>.\n",
    "<br/><br/>\n",
    "The library <i>Surprise</i> (https://surprise.readthedocs.io/en/stable/index.html) was used to create the following results. The code is highly inspired by the example code provided by the libries official documentation.\n",
    "<br/><br/>\n",
    "Big data set: Covertype<br>\n",
    "The data set was provided by Jock A. Blackard and Colorado State University and downloaded from https://archive.ics.uci.edu/ml/datasets/Covertype.\n",
    "<br/><br/>\n",
    "Small data set: Heart Failure Prediction<br>\n",
    "The data set was provided by Davide Chicco, Giuseppe Jurman: Machine learning can predict survival of patients with heart failure from serum creatinine and ejection fraction alone. BMC Medical Informatics and Decision Making 20, 16 (2020) (https://bmcmedinformdecismak.biomedcentral.com/articles/10.1186/s12911-020-1023-5) and downloaded from https://www.kaggle.com/datasets/andrewmvd/heart-failure-clinical-data."
   ]
  },
  {
   "cell_type": "markdown",
   "metadata": {},
   "source": [
    "# Import necessary dependencies"
   ]
  },
  {
   "cell_type": "code",
   "execution_count": 1,
   "metadata": {},
   "outputs": [],
   "source": [
    "from surprise import Dataset\n",
    "from surprise import accuracy\n",
    "from surprise.model_selection import train_test_split\n",
    "from surprise import Dataset\n",
    "from surprise import Reader\n",
    "from surprise import KNNWithMeans\n",
    "from surprise import CoClustering\n",
    "import datetime"
   ]
  },
  {
   "cell_type": "markdown",
   "metadata": {},
   "source": [
    "## Import data sets"
   ]
  },
  {
   "cell_type": "code",
   "execution_count": 2,
   "metadata": {},
   "outputs": [],
   "source": [
    "# Load 100k data\n",
    "reader = Reader(line_format='user item rating timestamp', sep='\\t')\n",
    "data_100k = Dataset.load_from_file('./Data/ml-100k/u.data', reader=reader)\n",
    "\n",
    "# Load 1m data\n",
    "reader = Reader(line_format='user item rating timestamp', sep='::')\n",
    "data_1m = Dataset.load_from_file('./Data/ml-1m/ratings.dat', reader=reader)"
   ]
  },
  {
   "cell_type": "markdown",
   "metadata": {},
   "source": [
    "## Set up algorithms"
   ]
  },
  {
   "cell_type": "code",
   "execution_count": 15,
   "metadata": {},
   "outputs": [],
   "source": [
    "## Define algorithms\n",
    "def generate_predictions(data, user_based, num_splits, use_coClustering=False):\n",
    "\n",
    "    # Student ID: se21m024 -> random_state = 21024\n",
    "    random_state = 21024\n",
    "\n",
    "    # Create 5 random training and test sets\n",
    "    train_test_sets = [train_test_split(data, test_size=.2, random_state=random_state)]\n",
    "\n",
    "    for i in range(num_splits-1):\n",
    "        train_test_sets.append(train_test_split(data, test_size=.2))\n",
    "\n",
    "    # Configure the algorithm (Co-clustering or k-NN with means)\n",
    "    if(use_coClustering):\n",
    "        algorithm = CoClustering(n_cltr_u=3, n_cltr_i=3, n_epochs=20, random_state=random_state)\n",
    "    else:\n",
    "        algorithm_options = {'name': 'cosine', 'user_based': user_based}\n",
    "        algorithm = KNNWithMeans(k=40, min_k=1, sim_options=algorithm_options, random_state=random_state)\n",
    "\n",
    "    # Train the algorithm and test the accuracy and runtime\n",
    "    results = []\n",
    "    for train_set, test_set in train_test_sets:\n",
    "        start_time = datetime.datetime.now()\n",
    "        algorithm.fit(train_set)\n",
    "        predictions = algorithm.test(test_set)\n",
    "        end_time = datetime.datetime.now()\n",
    "        mse = accuracy.mse(predictions)\n",
    "        runtime_sec = (end_time - start_time).total_seconds()\n",
    "        results.append([mse, runtime_sec])\n",
    "\n",
    "    # Print results\n",
    "    print('\\nResults')\n",
    "    for mse, runtime_sec in results:\n",
    "        print('MSE: ' + str(mse), 'Runtime: ' + str(runtime_sec) + ' seconds')"
   ]
  },
  {
   "cell_type": "markdown",
   "metadata": {},
   "source": [
    "# Generate and evaluate predictions"
   ]
  },
  {
   "cell_type": "markdown",
   "metadata": {},
   "source": [
    "## 100k data set"
   ]
  },
  {
   "cell_type": "markdown",
   "metadata": {},
   "source": [
    "### User Based Filtering (k-NN with means)"
   ]
  },
  {
   "cell_type": "code",
   "execution_count": 16,
   "metadata": {},
   "outputs": [
    {
     "name": "stdout",
     "output_type": "stream",
     "text": [
      "\n",
      "### 100k User based (k-NN with means) ###\n",
      "Computing the cosine similarity matrix...\n",
      "Done computing similarity matrix.\n",
      "MSE: 0.9048\n",
      "Computing the cosine similarity matrix...\n",
      "Done computing similarity matrix.\n",
      "MSE: 0.9184\n",
      "Computing the cosine similarity matrix...\n",
      "Done computing similarity matrix.\n",
      "MSE: 0.9023\n",
      "Computing the cosine similarity matrix...\n",
      "Done computing similarity matrix.\n",
      "MSE: 0.8967\n",
      "Computing the cosine similarity matrix...\n",
      "Done computing similarity matrix.\n",
      "MSE: 0.9123\n",
      "\n",
      "Results\n",
      "MSE: 0.9047969682388375 Runtime: 4.460698 seconds\n",
      "MSE: 0.9183666176616443 Runtime: 4.445627 seconds\n",
      "MSE: 0.9023409577181297 Runtime: 4.426486 seconds\n",
      "MSE: 0.8966928864367588 Runtime: 4.857592 seconds\n",
      "MSE: 0.91225430391259 Runtime: 4.36691 seconds\n"
     ]
    }
   ],
   "source": [
    "print('\\n### 100k User based (k-NN with means) ###')\n",
    "generate_predictions(data_100k, True, 5)"
   ]
  },
  {
   "cell_type": "markdown",
   "metadata": {},
   "source": [
    "### Item Based Filtering (k-NN with means)"
   ]
  },
  {
   "cell_type": "code",
   "execution_count": 17,
   "metadata": {},
   "outputs": [
    {
     "name": "stdout",
     "output_type": "stream",
     "text": [
      "\n",
      "### 100k Item based (k-NN with means) ###\n",
      "Computing the cosine similarity matrix...\n",
      "Done computing similarity matrix.\n",
      "MSE: 0.8800\n",
      "Computing the cosine similarity matrix...\n",
      "Done computing similarity matrix.\n",
      "MSE: 0.8920\n",
      "Computing the cosine similarity matrix...\n",
      "Done computing similarity matrix.\n",
      "MSE: 0.9014\n",
      "Computing the cosine similarity matrix...\n",
      "Done computing similarity matrix.\n",
      "MSE: 0.9040\n",
      "Computing the cosine similarity matrix...\n",
      "Done computing similarity matrix.\n",
      "MSE: 0.8928\n",
      "\n",
      "Results\n",
      "MSE: 0.8800046616403912 Runtime: 5.555936 seconds\n",
      "MSE: 0.8919933604783681 Runtime: 5.49285 seconds\n",
      "MSE: 0.9013814008747711 Runtime: 5.946492 seconds\n",
      "MSE: 0.9039946022839733 Runtime: 5.665933 seconds\n",
      "MSE: 0.8928368768979199 Runtime: 5.487841 seconds\n"
     ]
    }
   ],
   "source": [
    "print('\\n### 100k Item based (k-NN with means) ###')\n",
    "generate_predictions(data_100k, False, 5)"
   ]
  },
  {
   "cell_type": "markdown",
   "metadata": {},
   "source": [
    "### Co-clustering"
   ]
  },
  {
   "cell_type": "code",
   "execution_count": 18,
   "metadata": {},
   "outputs": [
    {
     "name": "stdout",
     "output_type": "stream",
     "text": [
      "\n",
      "### 100k Co-clustering ###\n",
      "MSE: 0.9255\n",
      "MSE: 0.9357\n",
      "MSE: 0.9327\n",
      "MSE: 0.9323\n",
      "MSE: 0.9168\n",
      "\n",
      "Results\n",
      "MSE: 0.9255341256709398 Runtime: 2.064703 seconds\n",
      "MSE: 0.935717379767046 Runtime: 1.927965 seconds\n",
      "MSE: 0.9326897055015237 Runtime: 2.309413 seconds\n",
      "MSE: 0.9322633368773251 Runtime: 1.913248 seconds\n",
      "MSE: 0.9167665686432691 Runtime: 1.909768 seconds\n"
     ]
    }
   ],
   "source": [
    "print('\\n### 100k Co-clustering ###')\n",
    "generate_predictions(data_100k, False, 5, True)"
   ]
  },
  {
   "cell_type": "markdown",
   "metadata": {},
   "source": [
    "## 1m data set"
   ]
  },
  {
   "cell_type": "markdown",
   "metadata": {},
   "source": [
    "### User Based Filtering (k-NN with means)"
   ]
  },
  {
   "cell_type": "code",
   "execution_count": 19,
   "metadata": {},
   "outputs": [
    {
     "name": "stdout",
     "output_type": "stream",
     "text": [
      "\n",
      "### 1m User based (k-NN with means) ###\n",
      "Computing the cosine similarity matrix...\n",
      "Done computing similarity matrix.\n",
      "MSE: 0.8871\n",
      "Computing the cosine similarity matrix...\n",
      "Done computing similarity matrix.\n",
      "MSE: 0.8827\n",
      "Computing the cosine similarity matrix...\n",
      "Done computing similarity matrix.\n",
      "MSE: 0.8815\n",
      "Computing the cosine similarity matrix...\n",
      "Done computing similarity matrix.\n",
      "MSE: 0.8863\n",
      "Computing the cosine similarity matrix...\n",
      "Done computing similarity matrix.\n",
      "MSE: 0.8797\n",
      "\n",
      "Results\n",
      "MSE: 0.8871383941625158 Runtime: 188.827831 seconds\n",
      "MSE: 0.8827446643560981 Runtime: 187.465062 seconds\n",
      "MSE: 0.8814503117906278 Runtime: 190.810032 seconds\n",
      "MSE: 0.8862540528986809 Runtime: 188.107589 seconds\n",
      "MSE: 0.8796519293664954 Runtime: 189.922178 seconds\n"
     ]
    }
   ],
   "source": [
    "print('\\n### 1m User based (k-NN with means) ###')\n",
    "generate_predictions(data_1m, True, 5)"
   ]
  },
  {
   "cell_type": "markdown",
   "metadata": {},
   "source": [
    "### Item Based Filtering (k-NN with means)"
   ]
  },
  {
   "cell_type": "code",
   "execution_count": 20,
   "metadata": {},
   "outputs": [
    {
     "name": "stdout",
     "output_type": "stream",
     "text": [
      "\n",
      "### 1m Item based (k-NN with means) ###\n",
      "Computing the cosine similarity matrix...\n",
      "Done computing similarity matrix.\n",
      "MSE: 0.8011\n",
      "Computing the cosine similarity matrix...\n",
      "Done computing similarity matrix.\n",
      "MSE: 0.8016\n",
      "Computing the cosine similarity matrix...\n",
      "Done computing similarity matrix.\n",
      "MSE: 0.8013\n",
      "Computing the cosine similarity matrix...\n",
      "Done computing similarity matrix.\n",
      "MSE: 0.7968\n",
      "Computing the cosine similarity matrix...\n",
      "Done computing similarity matrix.\n",
      "MSE: 0.7962\n",
      "\n",
      "Results\n",
      "MSE: 0.8010809546318405 Runtime: 85.472311 seconds\n",
      "MSE: 0.8015950374291422 Runtime: 86.592962 seconds\n",
      "MSE: 0.8012576493558005 Runtime: 86.56306 seconds\n",
      "MSE: 0.796758773341108 Runtime: 86.910761 seconds\n",
      "MSE: 0.7961656679567479 Runtime: 87.845872 seconds\n"
     ]
    }
   ],
   "source": [
    "print('\\n### 1m Item based (k-NN with means) ###')\n",
    "generate_predictions(data_1m, False, 5)"
   ]
  },
  {
   "cell_type": "markdown",
   "metadata": {},
   "source": [
    "### Co-clustering"
   ]
  },
  {
   "cell_type": "code",
   "execution_count": 21,
   "metadata": {},
   "outputs": [
    {
     "name": "stdout",
     "output_type": "stream",
     "text": [
      "\n",
      "### 1m Co-clustering ###\n",
      "MSE: 0.8401\n",
      "MSE: 0.8302\n",
      "MSE: 0.8389\n",
      "MSE: 0.8378\n",
      "MSE: 0.8456\n",
      "\n",
      "Results\n",
      "MSE: 0.8401407533473455 Runtime: 20.937122 seconds\n",
      "MSE: 0.8302378049312799 Runtime: 20.427174 seconds\n",
      "MSE: 0.838876977008309 Runtime: 21.269789 seconds\n",
      "MSE: 0.8377893712206187 Runtime: 20.859609 seconds\n",
      "MSE: 0.8456028526239072 Runtime: 22.456361 seconds\n"
     ]
    }
   ],
   "source": [
    "print('\\n### 1m Co-clustering ###')\n",
    "generate_predictions(data_1m, False, 5, True)"
   ]
  }
 ],
 "metadata": {
  "anaconda-cloud": {},
  "kernelspec": {
   "display_name": "Python 3 (ipykernel)",
   "language": "python",
   "name": "python3"
  },
  "language_info": {
   "codemirror_mode": {
    "name": "ipython",
    "version": 3
   },
   "file_extension": ".py",
   "mimetype": "text/x-python",
   "name": "python",
   "nbconvert_exporter": "python",
   "pygments_lexer": "ipython3",
   "version": "3.8.5"
  }
 },
 "nbformat": 4,
 "nbformat_minor": 1
}
