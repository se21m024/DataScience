{
 "cells": [
  {
   "cell_type": "markdown",
   "metadata": {},
   "source": [
    "# Machine Learning\n",
    "# Exercise 4 - Deep Learning\n",
    "<br/>Student:\n",
    "<br/>se21m024\n",
    "<br/>Matriculation number: 1425616\n",
    "<br/>Thomas Stummer\n",
    "<br/><br/>The interpretation of the data can be found in the document <b><i>se21m024_Stummer_ml_ex4_deep.pdf</i></b>.\n",
    "<br/><br/>\n",
    "The source code was heavily inspired by https://github.com/tuwien-musicir/DeepLearning_Tutorial/ and the code snippets provided by https://www.cs.toronto.edu/~kriz/cifar.html.\n",
    "<br/><br/>\n",
    "Data Set: CIFAR-10<br>\n",
    "\"The CIFAR-10 dataset consists of 60000 32x32 colour images in 10 classes, with 6000 images per class. There are 50000 training images and 10000 test images. The dataset is divided into five training batches and one test batch, each with 10000 images. The test batch contains exactly 1000 randomly-selected images from each class. The training batches contain the remaining images in random order, but some training batches may contain more images from one class than another. Between them, the training batches contain exactly 5000 images from each class. The classes are completely mutually exclusive.\" [Description taken from https://www.cs.toronto.edu/~kriz/cifar.html]<br>\n",
    "CIFAR-10 python version downloaded from https://www.cs.toronto.edu/~kriz/cifar-10-python.tar.gz<br>\n",
    "Reference: Learning Multiple Layers of Features from Tiny Images, Alex Krizhevsky, 2009.\n",
    "<br/><br/>"
   ]
  },
  {
   "cell_type": "markdown",
   "metadata": {},
   "source": [
    "## Import Dependencies"
   ]
  },
  {
   "cell_type": "code",
   "execution_count": 1,
   "metadata": {
    "collapsed": false
   },
   "outputs": [],
   "source": [
    "import os\n",
    "import argparse\n",
    "import csv\n",
    "import datetime\n",
    "import glob\n",
    "import math\n",
    "import sys\n",
    "import time\n",
    "import numpy as np\n",
    "import pickle\n",
    "import pandas as pd\n",
    "import matplotlib.pyplot as plt\n",
    "from PIL import Image\n",
    "from sklearn.metrics import accuracy_score\n",
    "from tensorflow import keras\n",
    "from keras.models import Sequential\n",
    "from keras.layers import Convolution2D, MaxPooling2D, Dense, Dropout, Activation, Flatten\n",
    "from keras.utils import np_utils\n",
    "from tensorflow.keras.layers import BatchNormalization\n",
    "%matplotlib inline \n",
    "\n",
    "# Matriculation number: 1425616\n",
    "random_state = 1425616\n",
    "np.random.seed(random_state) # we initialize a random seed here to make the experiments repeatable with same results"
   ]
  },
  {
   "cell_type": "markdown",
   "metadata": {},
   "source": [
    "## Load the Images from the Data Set"
   ]
  },
  {
   "cell_type": "code",
   "execution_count": 2,
   "metadata": {
    "collapsed": false
   },
   "outputs": [
    {
     "name": "stdout",
     "output_type": "stream",
     "text": [
      "Imported 5 files\n"
     ]
    }
   ],
   "source": [
    "# Unpickle files\n",
    "def unpickle(file):\n",
    "    with open(file, 'rb') as fo:\n",
    "        dict = pickle.load(fo, encoding='bytes')\n",
    "    return dict\n",
    "\n",
    "path = 'cifar-10-batches-py/data_batches'\n",
    "files = glob.glob(os.path.join(path, '*_*'))\n",
    "print('Imported ' + str(len(files)) + ' files')"
   ]
  },
  {
   "cell_type": "code",
   "execution_count": 3,
   "metadata": {},
   "outputs": [
    {
     "name": "stdout",
     "output_type": "stream",
     "text": [
      "Imported 50000 images.\n"
     ]
    }
   ],
   "source": [
    "# Import labeled images\n",
    "image_filenames = []\n",
    "images = np.empty([0,3072], dtype=np.ubyte)\n",
    "image_labels = []\n",
    "\n",
    "for filename in files:\n",
    "    file_data = unpickle(filename)\n",
    "    image_filenames.extend(file_data[b'filenames'])\n",
    "    images = np.append(images, file_data[b'data'], axis=0)\n",
    "    image_labels.extend(file_data[b'labels'])\n",
    "    \n",
    "print('Imported ' + str(len(images)) + ' images.')"
   ]
  },
  {
   "cell_type": "code",
   "execution_count": 4,
   "metadata": {
    "collapsed": false
   },
   "outputs": [
    {
     "name": "stdout",
     "output_type": "stream",
     "text": [
      "b'roe_deer_s_000207.png'\n"
     ]
    },
    {
     "data": {
      "image/png": "[encoded data removed]",
      "text/plain": [
       "<PIL.Image.Image image mode=RGB size=32x32 at 0x25D3EA46760>"
      ]
     },
     "execution_count": 4,
     "metadata": {},
     "output_type": "execute_result"
    }
   ],
   "source": [
    "# Show a selected image to check\n",
    "i=12645\n",
    "print (image_filenames[i])\n",
    "image = images[i]\n",
    "Image.merge('RGB', (\n",
    "    Image.fromarray(np.asarray(np.split(image[0:1024], indices_or_sections=32))),\n",
    "    Image.fromarray(np.asarray(np.split(image[1024:2048], indices_or_sections=32))),\n",
    "    Image.fromarray(np.asarray(np.split(image[2048:3072], indices_or_sections=32)))))"
   ]
  },
  {
   "cell_type": "markdown",
   "metadata": {},
   "source": [
    "## Create the Groundtruth based on labels:\n",
    "\n",
    "In this data set, all images are labeled."
   ]
  },
  {
   "cell_type": "code",
   "execution_count": 5,
   "metadata": {
    "collapsed": false
   },
   "outputs": [
    {
     "name": "stdout",
     "output_type": "stream",
     "text": [
      "First 25 labels:\n",
      "[6, 9, 9, 4, 1, 1, 2, 7, 8, 3, 4, 7, 7, 2, 9, 9, 9, 3, 2, 6, 4, 3, 6, 6, 2]\n",
      "\n",
      "Unique labels:\n",
      "{0, 1, 2, 3, 4, 5, 6, 7, 8, 9}\n",
      "\n",
      "Groundtruth Statistics:\n",
      "Label 0 : 5000\n",
      "Label 1 : 5000\n",
      "Label 2 : 5000\n",
      "Label 3 : 5000\n",
      "Label 4 : 5000\n",
      "Label 5 : 5000\n",
      "Label 6 : 5000\n",
      "Label 7 : 5000\n",
      "Label 8 : 5000\n",
      "Label 9 : 5000\n"
     ]
    }
   ],
   "source": [
    "# look at the first 25 classes\n",
    "print('First 25 labels:\\n' + str(image_labels[0:25]) + '\\n')\n",
    "\n",
    "unique_image_labels = set(image_labels)\n",
    "print('Unique labels:\\n' + str(unique_image_labels) + '\\n')\n",
    "\n",
    "print(\"Groundtruth Statistics:\")\n",
    "for v in unique_image_labels:\n",
    "    print(\"Label\", v, \":\", image_labels.count(v))\n",
    "\n",
    "image_classes = np_utils.to_categorical(image_labels)"
   ]
  },
  {
   "cell_type": "markdown",
   "metadata": {},
   "source": [
    "## Standardization\n",
    "\n",
    "Here we use <b>Zero-mean Unit-variance standardization</b> which means we deduct the mean and divide by the standard deviation.\n",
    "\n",
    "(Note: Here, we do this \"flat\", i.e. one mean and std.dev. for the whole image is computed over all pixels (not per pixel); in RGB images, standardization can be done e.g. for each colour channel individually; in other/non-image data sets, attribute-wise standardization should be applied)."
   ]
  },
  {
   "cell_type": "code",
   "execution_count": 6,
   "metadata": {
    "collapsed": false
   },
   "outputs": [
    {
     "data": {
      "text/plain": [
       "(0, 255)"
      ]
     },
     "execution_count": 6,
     "metadata": {},
     "output_type": "execute_result"
    }
   ],
   "source": [
    "images.min(), images.max()"
   ]
  },
  {
   "cell_type": "code",
   "execution_count": 7,
   "metadata": {
    "collapsed": false
   },
   "outputs": [
    {
     "data": {
      "text/plain": [
       "(120.70756512369792, 64.1500758911213)"
      ]
     },
     "execution_count": 7,
     "metadata": {},
     "output_type": "execute_result"
    }
   ],
   "source": [
    "mean = images.mean()\n",
    "stddev = images.std()\n",
    "mean, stddev"
   ]
  },
  {
   "cell_type": "code",
   "execution_count": 8,
   "metadata": {
    "collapsed": false
   },
   "outputs": [
    {
     "data": {
      "text/plain": [
       "(-2.5247951877342226e-17, 1.0000000000000022)"
      ]
     },
     "execution_count": 8,
     "metadata": {},
     "output_type": "execute_result"
    }
   ],
   "source": [
    "images_std = (images - mean) / stddev\n",
    "images_std = np.array(images_std, dtype=float)\n",
    "images_std.mean(), images_std.std()"
   ]
  },
  {
   "cell_type": "code",
   "execution_count": 9,
   "metadata": {
    "collapsed": false
   },
   "outputs": [
    {
     "data": {
      "text/plain": [
       "(-1.8816433721538972, 2.09341038199596)"
      ]
     },
     "execution_count": 9,
     "metadata": {},
     "output_type": "execute_result"
    }
   ],
   "source": [
    "images_std.min(), images_std.max()"
   ]
  },
  {
   "cell_type": "markdown",
   "metadata": {},
   "source": [
    "# Creating NN Models in Keras"
   ]
  },
  {
   "cell_type": "markdown",
   "metadata": {
    "collapsed": true
   },
   "source": [
    "## 1) Fully Connected NN\n",
    "\n",
    "For a fully connected neural network, the x and y axis of an image do not play a role at all. All pixels are considered as a completely individual input to the neural network. Therefore the 2D image arrays have to be flattened to a vector. For our current data set this is already the case."
   ]
  },
  {
   "cell_type": "code",
   "execution_count": 10,
   "metadata": {
    "collapsed": false
   },
   "outputs": [
    {
     "name": "stdout",
     "output_type": "stream",
     "text": [
      "(50000, 3072)\n"
     ]
    }
   ],
   "source": [
    "#  flatten images to vectors\n",
    "#images_flat = images_std.reshape(images_std.shape[0],-1)\n",
    "#print(images_flat.shape)\n",
    "print(images_std.shape)"
   ]
  },
  {
   "cell_type": "code",
   "execution_count": 11,
   "metadata": {
    "collapsed": false
   },
   "outputs": [
    {
     "name": "stdout",
     "output_type": "stream",
     "text": [
      "Input shape for NN: 3072\n"
     ]
    }
   ],
   "source": [
    "# find out input shape for NN, which is just a long vector (32 x 32 x 3 = 1024 x 3 = 3072)\n",
    "input_shape = images_std.shape[1]\n",
    "print('Input shape for NN: ' + str(input_shape))"
   ]
  },
  {
   "cell_type": "markdown",
   "metadata": {},
   "source": [
    "### Creating a Model\n",
    "\n",
    "In Keras, one can choose between a Sequential model and a Graph model. Sequential models are the standard case. Graph models are for parallel networks and use the functional API (see Music/Speech tutorial).\n",
    "\n",
    "Here we create a sequential model with 2 fully connected (a.k.a. 'dense') layers containing 256 units each.\n",
    "\n",
    "The output unit is a Single sigmoid unit which can predict values between 0 and 1."
   ]
  },
  {
   "cell_type": "code",
   "execution_count": 12,
   "metadata": {
    "collapsed": false
   },
   "outputs": [
    {
     "name": "stdout",
     "output_type": "stream",
     "text": [
      "Model: \"sequential\"\n",
      "_________________________________________________________________\n",
      " Layer (type)                Output Shape              Param #   \n",
      "=================================================================\n",
      " dense (Dense)               (None, 256)               786688    \n",
      "                                                                 \n",
      " dense_1 (Dense)             (None, 256)               65792     \n",
      "                                                                 \n",
      " dense_2 (Dense)             (None, 10)                2570      \n",
      "                                                                 \n",
      "=================================================================\n",
      "Total params: 855,050\n",
      "Trainable params: 855,050\n",
      "Non-trainable params: 0\n",
      "_________________________________________________________________\n"
     ]
    }
   ],
   "source": [
    "# simple Fully-connected network\n",
    "model = Sequential()\n",
    "\n",
    "model.add(Dense(256, input_dim=input_shape))\n",
    "model.add(Dense(256, activation='sigmoid'))\n",
    "model.add(Dense(len(unique_image_labels), activation='softmax'))\n",
    "\n",
    "model.summary()\n"
   ]
  },
  {
   "cell_type": "markdown",
   "metadata": {},
   "source": [
    "### Defining Loss Function and Optimizer Strategy: Gradient Descent"
   ]
  },
  {
   "cell_type": "code",
   "execution_count": 13,
   "metadata": {
    "collapsed": false
   },
   "outputs": [],
   "source": [
    "# Define a loss function \n",
    "loss = 'categorical_crossentropy'  # 'categorical_crossentropy' for multi-class problems\n",
    "\n",
    "# Optimizer = Stochastic Gradient Descent\n",
    "optimizer = 'sgd' \n",
    "\n",
    "# Compiling the model\n",
    "# This creates the whole model structure in memory. \n",
    "# If you use GPU computation, here GPU compatible structures and code is generated.\n",
    "model.compile(loss=loss, optimizer=optimizer, metrics=['accuracy'])"
   ]
  },
  {
   "cell_type": "markdown",
   "metadata": {},
   "source": [
    "### Training the model on the input dataset"
   ]
  },
  {
   "cell_type": "code",
   "execution_count": 14,
   "metadata": {
    "collapsed": false
   },
   "outputs": [
    {
     "name": "stdout",
     "output_type": "stream",
     "text": [
      "Epoch 1/10\n",
      "1563/1563 [==============================] - 6s 4ms/step - loss: 1.8197 - accuracy: 0.3650\n",
      "Epoch 2/10\n",
      "1563/1563 [==============================] - 5s 3ms/step - loss: 1.6915 - accuracy: 0.4154\n",
      "Epoch 3/10\n",
      "1563/1563 [==============================] - 5s 3ms/step - loss: 1.6393 - accuracy: 0.4348\n",
      "Epoch 4/10\n",
      "1563/1563 [==============================] - 5s 3ms/step - loss: 1.6006 - accuracy: 0.4499\n",
      "Epoch 5/10\n",
      "1563/1563 [==============================] - 5s 3ms/step - loss: 1.5676 - accuracy: 0.4617\n",
      "Epoch 6/10\n",
      "1563/1563 [==============================] - 4s 3ms/step - loss: 1.5381 - accuracy: 0.4716\n",
      "Epoch 7/10\n",
      "1563/1563 [==============================] - 5s 3ms/step - loss: 1.5111 - accuracy: 0.4823\n",
      "Epoch 8/10\n",
      "1563/1563 [==============================] - 5s 3ms/step - loss: 1.4847 - accuracy: 0.4927\n",
      "Epoch 9/10\n",
      "1563/1563 [==============================] - 5s 3ms/step - loss: 1.4593 - accuracy: 0.5007\n",
      "Epoch 10/10\n",
      "1563/1563 [==============================] - 5s 3ms/step - loss: 1.4364 - accuracy: 0.5098\n"
     ]
    },
    {
     "data": {
      "text/plain": [
       "<keras.callbacks.History at 0x25d40283040>"
      ]
     },
     "execution_count": 14,
     "metadata": {},
     "output_type": "execute_result"
    }
   ],
   "source": [
    "# train the model\n",
    "epochs = 10\n",
    "model.fit(images_std, image_classes, batch_size=32, epochs=epochs)"
   ]
  },
  {
   "cell_type": "code",
   "execution_count": 15,
   "metadata": {
    "collapsed": false
   },
   "outputs": [
    {
     "name": "stdout",
     "output_type": "stream",
     "text": [
      "1563/1563 [==============================] - 3s 2ms/step\n",
      "Accuracy on training set: 0.51854\n"
     ]
    }
   ],
   "source": [
    "# verify accuracy on train set\n",
    "predictions = model.predict(images_std)\n",
    "predicted_classes = np.argmax(predictions, axis=1)\n",
    "image_labels_for_comparison = np.array(image_labels)\n",
    "accuracy_on_training_set = accuracy_score(image_labels_for_comparison, predicted_classes)\n",
    "print('Accuracy on training set: ' + str(accuracy_on_training_set))"
   ]
  },
  {
   "cell_type": "markdown",
   "metadata": {},
   "source": [
    "This is the accuracy on the training set."
   ]
  },
  {
   "cell_type": "markdown",
   "metadata": {},
   "source": [
    "# Testing with Test Data Set"
   ]
  },
  {
   "cell_type": "code",
   "execution_count": 16,
   "metadata": {
    "collapsed": false
   },
   "outputs": [
    {
     "name": "stdout",
     "output_type": "stream",
     "text": [
      "Imported 1 files.\n",
      "Imported 10000 images.\n"
     ]
    }
   ],
   "source": [
    "# Unpickle files\n",
    "def unpickle(file):\n",
    "    with open(file, 'rb') as fo:\n",
    "        dict = pickle.load(fo, encoding='bytes')\n",
    "    return dict\n",
    "\n",
    "path = 'cifar-10-batches-py/test_batches'\n",
    "files = glob.glob(os.path.join(path, '*_*'))\n",
    "print('Imported ' + str(len(files)) + ' files.')\n",
    "\n",
    "# Import labeled images\n",
    "test_image_filenames = []\n",
    "test_images = np.empty([0,3072], dtype=np.ubyte)\n",
    "test_image_labels = []\n",
    "\n",
    "for filename in files:\n",
    "    file_data = unpickle(filename)\n",
    "    test_image_filenames.extend(file_data[b'filenames'])\n",
    "    test_images = np.append(test_images, file_data[b'data'], axis=0)\n",
    "    test_image_labels.extend(file_data[b'labels'])\n",
    "    \n",
    "test_image_labels_for_comparison = np.array(test_image_labels)\n",
    "test_image_classes = np_utils.to_categorical(test_image_labels)\n",
    "\n",
    "print('Imported ' + str(len(test_images)) + ' images.')"
   ]
  },
  {
   "cell_type": "markdown",
   "metadata": {},
   "source": [
    "### Standardize Test Set\n",
    "\n",
    "The test data has to be standardized <b>in the same way</b> as the training data for compatibility with the model! That means, we take the mean and standard deviation of the <i>training data</i> to transform also the test data."
   ]
  },
  {
   "cell_type": "code",
   "execution_count": 17,
   "metadata": {
    "collapsed": false
   },
   "outputs": [],
   "source": [
    "# NO! we take the same mean and stddev from the training data above!\n",
    "#mean = test_images.mean()\n",
    "#stddev = test_images.std()\n",
    "#print mean, stddev"
   ]
  },
  {
   "cell_type": "code",
   "execution_count": 18,
   "metadata": {
    "collapsed": false
   },
   "outputs": [
    {
     "data": {
      "text/plain": [
       "(121.52915475260417, 64.06097012299574)"
      ]
     },
     "execution_count": 18,
     "metadata": {},
     "output_type": "execute_result"
    }
   ],
   "source": [
    "test_images.mean(), test_images.std()"
   ]
  },
  {
   "cell_type": "code",
   "execution_count": 19,
   "metadata": {
    "collapsed": false
   },
   "outputs": [],
   "source": [
    "test_images_std = (test_images - mean) / stddev"
   ]
  },
  {
   "cell_type": "code",
   "execution_count": 20,
   "metadata": {},
   "outputs": [
    {
     "data": {
      "text/plain": [
       "(0.012807305642173993, 0.9986109795368484)"
      ]
     },
     "execution_count": 20,
     "metadata": {},
     "output_type": "execute_result"
    }
   ],
   "source": [
    "test_images_std.mean(), test_images_std.std()"
   ]
  },
  {
   "cell_type": "markdown",
   "metadata": {},
   "source": [
    "### Make Predictions"
   ]
  },
  {
   "cell_type": "code",
   "execution_count": 21,
   "metadata": {
    "collapsed": false
   },
   "outputs": [
    {
     "name": "stdout",
     "output_type": "stream",
     "text": [
      "313/313 [==============================] - 1s 2ms/step\n",
      "Accuracy on test set: 0.4661\n"
     ]
    }
   ],
   "source": [
    "# verify accuracy on test set\n",
    "test_predictions = model.predict(test_images_std)\n",
    "test_predicted_classes = np.argmax(test_predictions, axis=1)\n",
    "accuracy_on_test_set = accuracy_score(test_image_labels_for_comparison, test_predicted_classes)\n",
    "print('Accuracy on test set: ' + str(accuracy_on_test_set))"
   ]
  },
  {
   "cell_type": "markdown",
   "metadata": {},
   "source": [
    "# 2) Convolutional Neural Network\n",
    "\n",
    "A Convolutional Neural Network (ConvNet or CNN) is a type of (deep) Neural Network that is well-suited for 2D axes data, such as images, as it is optimized for learning from spatial proximity. Its core elements are 2D filter kernels which essentially learn the weights of the Neural Network, and downscaling functions such as Max Pooling.\n",
    "\n",
    "A CNN can have one or more Convolution layers, each of them having an arbitrary number of N filters (which define the depth of the CNN layer), following typically by a pooling step, which groups neighboring pixels together and thus reduces the image resolution by retaining only the maximum values of neighboring pixels."
   ]
  },
  {
   "cell_type": "markdown",
   "metadata": {},
   "source": [
    "### Input\n",
    "\n",
    "Our input to the CNN is the standardized version of the original image array.\n",
    "\n",
    "#### Adding the channel\n",
    "\n",
    "For CNNs, we need to add a dimension for the color channel to the data. RGB images typically have an 3rd dimension with the color. \n",
    "<b>For greyscale images we need to add an extra dimension for compatibility with the CNN implementation.</b>\n",
    "\n",
    "In Theano, traditionally the color channel was the <b>first</b> dimension in the image shape. \n",
    "In Tensorflow, the color channel is the <b>last</b> dimension in the image shape. \n",
    "\n",
    "This can be configured now in ~/.keras/keras.json: \"image_dim_ordering\": \"th\" or \"tf\" with \"tf\" (Tensorflow) being the default image ordering even though you use Theano. Depending on this, use one of the code lines below.\n",
    "\n",
    "For greyscale images, we add the number 1 as the depth of the additional dimension of the input shape (for RGB color images, the number of channels is 3)."
   ]
  },
  {
   "cell_type": "code",
   "execution_count": 23,
   "metadata": {
    "collapsed": false
   },
   "outputs": [],
   "source": [
    "n_channels = 3 # for grey-scale, 3 for RGB, but usually already present in the data\n",
    "edge_pixels = 32\n",
    "\n",
    "keras.backend.set_image_data_format('channels_last')\n",
    "train_img = images_std.reshape(images_std.shape[0], edge_pixels, edge_pixels, n_channels)\n",
    "test_img = test_images_std.reshape(test_images_std.shape[0], edge_pixels, edge_pixels, n_channels)"
   ]
  },
  {
   "cell_type": "code",
   "execution_count": 24,
   "metadata": {
    "collapsed": false
   },
   "outputs": [
    {
     "name": "stdout",
     "output_type": "stream",
     "text": [
      "(50000, 3072)\n",
      "(10000, 3072)\n",
      "(50000, 32, 32, 3)\n",
      "(10000, 32, 32, 3)\n"
     ]
    }
   ],
   "source": [
    "print(images_std.shape)\n",
    "print(test_images_std.shape)\n",
    "print(train_img.shape)\n",
    "print(test_img.shape)"
   ]
  },
  {
   "cell_type": "code",
   "execution_count": 25,
   "metadata": {
    "collapsed": false
   },
   "outputs": [
    {
     "data": {
      "text/plain": [
       "(32, 32, 3)"
      ]
     },
     "execution_count": 25,
     "metadata": {},
     "output_type": "execute_result"
    }
   ],
   "source": [
    "# we store the new shape of the images in the 'input_shape' variable.\n",
    "# take all dimensions except the 0th one (which is the number of images)\n",
    "    \n",
    "input_shape = train_img.shape[1:]  \n",
    "input_shape"
   ]
  },
  {
   "cell_type": "markdown",
   "metadata": {},
   "source": [
    "## Create the CNN model\n",
    "\n",
    "You may try to change the following to see the impact on the result:\n",
    "* number of filters\n",
    "* filter kernel size (e.g. 3 x 3, 5 x 5, ...)\n",
    "* adding/not adding Batch Normalization\n",
    "* adding/not adding ReLU Activation\n",
    "* adding/not adding Max Pooling\n",
    "* changing Pooling size (e.g. 1 x 2, 2 x 2, 2 x 1, or more)\n",
    "* adding/changing/removing Dropout"
   ]
  },
  {
   "cell_type": "code",
   "execution_count": 26,
   "metadata": {
    "collapsed": false
   },
   "outputs": [],
   "source": [
    "def createMyModel():\n",
    "    \n",
    "    model = Sequential()\n",
    "\n",
    "    n_filters = 16 #16\n",
    "    # this applies n_filters convolution filters of size 5x5 resp. 3x3 each in the 2 layers below\n",
    "\n",
    "    # Layer 1\n",
    "    #model.add(Convolution2D(n_filters, 3, 3, border_mode='valid', input_shape=input_shape))\n",
    "    model.add(Convolution2D(n_filters, 3, 3, input_shape=input_shape))\n",
    "    # input shape: 100x100 images with 3 channels -> input_shape should be (3, 100, 100) \n",
    "    model.add(BatchNormalization())\n",
    "    model.add(Activation('relu'))  # ReLu activation\n",
    "    #model.add(MaxPooling2D(pool_size=(2, 2))) # reducing image resolution by half\n",
    "    model.add(Dropout(0.3))  # random \"deletion\" of %-portion of units in each batch\n",
    "\n",
    "    # Layer 2\n",
    "    model.add(Convolution2D(n_filters, 3, 3))  # input_shape is only needed in 1st layer\n",
    "    #model.add(BatchNormalization())\n",
    "    model.add(Activation('relu'))\n",
    "    #model.add(MaxPooling2D(pool_size=(2, 2)))\n",
    "    model.add(Dropout(0.3))\n",
    "\n",
    "    model.add(Flatten()) # Note: Keras does automatic shape inference.\n",
    "    \n",
    "    # Full Layer\n",
    "    model.add(Dense(256))\n",
    "    model.add(Activation('relu'))\n",
    "    model.add(Dropout(0.1))\n",
    "\n",
    "    model.add(Dense(len(unique_image_labels), activation='softmax'))\n",
    "    \n",
    "    return model"
   ]
  },
  {
   "cell_type": "code",
   "execution_count": 27,
   "metadata": {
    "collapsed": false
   },
   "outputs": [
    {
     "name": "stdout",
     "output_type": "stream",
     "text": [
      "Model: \"sequential_1\"\n",
      "_________________________________________________________________\n",
      " Layer (type)                Output Shape              Param #   \n",
      "=================================================================\n",
      " conv2d (Conv2D)             (None, 10, 10, 16)        448       \n",
      "                                                                 \n",
      " batch_normalization (BatchN  (None, 10, 10, 16)       64        \n",
      " ormalization)                                                   \n",
      "                                                                 \n",
      " activation (Activation)     (None, 10, 10, 16)        0         \n",
      "                                                                 \n",
      " dropout (Dropout)           (None, 10, 10, 16)        0         \n",
      "                                                                 \n",
      " conv2d_1 (Conv2D)           (None, 3, 3, 16)          2320      \n",
      "                                                                 \n",
      " activation_1 (Activation)   (None, 3, 3, 16)          0         \n",
      "                                                                 \n",
      " dropout_1 (Dropout)         (None, 3, 3, 16)          0         \n",
      "                                                                 \n",
      " flatten (Flatten)           (None, 144)               0         \n",
      "                                                                 \n",
      " dense_3 (Dense)             (None, 256)               37120     \n",
      "                                                                 \n",
      " activation_2 (Activation)   (None, 256)               0         \n",
      "                                                                 \n",
      " dropout_2 (Dropout)         (None, 256)               0         \n",
      "                                                                 \n",
      " dense_4 (Dense)             (None, 10)                2570      \n",
      "                                                                 \n",
      "=================================================================\n",
      "Total params: 42,522\n",
      "Trainable params: 42,490\n",
      "Non-trainable params: 32\n",
      "_________________________________________________________________\n"
     ]
    }
   ],
   "source": [
    "model = createMyModel()\n",
    "model.summary()"
   ]
  },
  {
   "cell_type": "markdown",
   "metadata": {},
   "source": [
    "Note: If you get OverflowError: Range exceeds valid bounds in the above box, check the correct Theano vs. Tensorflow ordering in the box before and your keras.json configuration file."
   ]
  },
  {
   "cell_type": "markdown",
   "metadata": {},
   "source": [
    "## Training the CNN"
   ]
  },
  {
   "cell_type": "code",
   "execution_count": 28,
   "metadata": {
    "collapsed": true
   },
   "outputs": [],
   "source": [
    "# Compiling the model\n",
    "loss = 'categorical_crossentropy' \n",
    "optimizer = 'sgd' \n",
    "#optimizer = SGD(lr=0.001)  # possibility to adapt the learn rate\n",
    "\n",
    "model.compile(loss=loss, optimizer=optimizer, metrics=['accuracy'])"
   ]
  },
  {
   "cell_type": "code",
   "execution_count": 29,
   "metadata": {
    "collapsed": false
   },
   "outputs": [
    {
     "name": "stdout",
     "output_type": "stream",
     "text": [
      "Epoch 1/10\n",
      "1563/1563 [==============================] - 7s 4ms/step - loss: 2.1079 - accuracy: 0.2208\n",
      "Epoch 2/10\n",
      "1563/1563 [==============================] - 8s 5ms/step - loss: 1.9337 - accuracy: 0.3024\n",
      "Epoch 3/10\n",
      "1563/1563 [==============================] - 7s 5ms/step - loss: 1.8502 - accuracy: 0.3315\n",
      "Epoch 4/10\n",
      "1563/1563 [==============================] - 7s 5ms/step - loss: 1.7953 - accuracy: 0.3501\n",
      "Epoch 5/10\n",
      "1563/1563 [==============================] - 7s 4ms/step - loss: 1.7565 - accuracy: 0.3658\n",
      "Epoch 6/10\n",
      "1563/1563 [==============================] - 7s 4ms/step - loss: 1.7207 - accuracy: 0.3767\n",
      "Epoch 7/10\n",
      "1563/1563 [==============================] - 7s 4ms/step - loss: 1.6985 - accuracy: 0.3838\n",
      "Epoch 8/10\n",
      "1563/1563 [==============================] - 7s 4ms/step - loss: 1.6757 - accuracy: 0.3922\n",
      "Epoch 9/10\n",
      "1563/1563 [==============================] - 7s 5ms/step - loss: 1.6610 - accuracy: 0.3951\n",
      "Epoch 10/10\n",
      "1563/1563 [==============================] - 7s 4ms/step - loss: 1.6456 - accuracy: 0.4036\n"
     ]
    }
   ],
   "source": [
    "# TRAINING the model\n",
    "epochs = 10\n",
    "history = model.fit(train_img, image_classes, batch_size=32, epochs=epochs)"
   ]
  },
  {
   "cell_type": "markdown",
   "metadata": {},
   "source": [
    "### Training with Validation Data\n",
    "\n",
    "We split off 10 % of the training data and use it as independend validation set to verify how good we are\n",
    "on an independent data (not used for training) in each epoch"
   ]
  },
  {
   "cell_type": "code",
   "execution_count": 30,
   "metadata": {
    "collapsed": false
   },
   "outputs": [
    {
     "name": "stdout",
     "output_type": "stream",
     "text": [
      "Epoch 1/10\n",
      "1407/1407 [==============================] - 7s 5ms/step - loss: 2.1091 - accuracy: 0.2206 - val_loss: 1.9338 - val_accuracy: 0.3164\n",
      "Epoch 2/10\n",
      "1407/1407 [==============================] - 7s 5ms/step - loss: 1.9567 - accuracy: 0.2899 - val_loss: 1.8147 - val_accuracy: 0.3600\n",
      "Epoch 3/10\n",
      "1407/1407 [==============================] - 7s 5ms/step - loss: 1.8587 - accuracy: 0.3261 - val_loss: 1.7087 - val_accuracy: 0.3896\n",
      "Epoch 4/10\n",
      "1407/1407 [==============================] - 6s 5ms/step - loss: 1.7933 - accuracy: 0.3515 - val_loss: 1.6486 - val_accuracy: 0.4126\n",
      "Epoch 5/10\n",
      "1407/1407 [==============================] - 6s 4ms/step - loss: 1.7489 - accuracy: 0.3668 - val_loss: 1.6030 - val_accuracy: 0.4238\n",
      "Epoch 6/10\n",
      "1407/1407 [==============================] - 6s 5ms/step - loss: 1.7170 - accuracy: 0.3779 - val_loss: 1.5776 - val_accuracy: 0.4348\n",
      "Epoch 7/10\n",
      "1407/1407 [==============================] - 6s 5ms/step - loss: 1.6958 - accuracy: 0.3873 - val_loss: 1.5618 - val_accuracy: 0.4370\n",
      "Epoch 8/10\n",
      "1407/1407 [==============================] - 6s 5ms/step - loss: 1.6823 - accuracy: 0.3904 - val_loss: 1.5552 - val_accuracy: 0.4380\n",
      "Epoch 9/10\n",
      "1407/1407 [==============================] - 7s 5ms/step - loss: 1.6647 - accuracy: 0.3965 - val_loss: 1.5224 - val_accuracy: 0.4490\n",
      "Epoch 10/10\n",
      "1407/1407 [==============================] - 7s 5ms/step - loss: 1.6546 - accuracy: 0.4026 - val_loss: 1.5201 - val_accuracy: 0.4522\n"
     ]
    }
   ],
   "source": [
    "# recreate and recompile the model (otherwise we continue learning)\n",
    "model = createMyModel()\n",
    "model.compile(loss=loss, optimizer=optimizer, metrics=['accuracy'])\n",
    "\n",
    "# train with showing accuracy on split off validation data\n",
    "history = model.fit(train_img, image_classes, batch_size=32, epochs=epochs, validation_split=0.1) # portion of val. data"
   ]
  },
  {
   "cell_type": "markdown",
   "metadata": {},
   "source": [
    "The results on the split-off validation data are usually similar, but not as high as on the training data."
   ]
  },
  {
   "cell_type": "markdown",
   "metadata": {},
   "source": [
    "### Using Test Set as Validation Set\n",
    "\n",
    "<b>Note: This usually is not recommended as during experimentation you will overfit also to the test data.</b>\n",
    "\n",
    "We show it here only for demonstration purposes to see how (bad) the validation accuracy is on our independet test data. The recommended way is to have a separate training, validation and test set (i.e. 3 splits or separate data sets)."
   ]
  },
  {
   "cell_type": "code",
   "execution_count": 31,
   "metadata": {
    "collapsed": false
   },
   "outputs": [
    {
     "name": "stdout",
     "output_type": "stream",
     "text": [
      "Epoch 1/10\n",
      "1563/1563 [==============================] - 8s 5ms/step - loss: 2.1188 - accuracy: 0.2222 - val_loss: 1.9119 - val_accuracy: 0.3255\n",
      "Epoch 2/10\n",
      "1563/1563 [==============================] - 8s 5ms/step - loss: 1.9425 - accuracy: 0.2969 - val_loss: 1.7762 - val_accuracy: 0.3692\n",
      "Epoch 3/10\n",
      "1563/1563 [==============================] - 8s 5ms/step - loss: 1.8503 - accuracy: 0.3328 - val_loss: 1.6961 - val_accuracy: 0.3992\n",
      "Epoch 4/10\n",
      "1563/1563 [==============================] - 13s 9ms/step - loss: 1.7837 - accuracy: 0.3534 - val_loss: 1.6299 - val_accuracy: 0.4205\n",
      "Epoch 5/10\n",
      "1563/1563 [==============================] - 14s 9ms/step - loss: 1.7382 - accuracy: 0.3712 - val_loss: 1.5971 - val_accuracy: 0.4277\n",
      "Epoch 6/10\n",
      "1563/1563 [==============================] - 14s 9ms/step - loss: 1.7074 - accuracy: 0.3798 - val_loss: 1.5636 - val_accuracy: 0.4359\n",
      "Epoch 7/10\n",
      "1563/1563 [==============================] - 17s 11ms/step - loss: 1.6814 - accuracy: 0.3895 - val_loss: 1.5569 - val_accuracy: 0.4402\n",
      "Epoch 8/10\n",
      "1563/1563 [==============================] - 17s 11ms/step - loss: 1.6695 - accuracy: 0.3938 - val_loss: 1.5380 - val_accuracy: 0.4484\n",
      "Epoch 9/10\n",
      "1563/1563 [==============================] - 18s 11ms/step - loss: 1.6541 - accuracy: 0.4007 - val_loss: 1.5273 - val_accuracy: 0.4593\n",
      "Epoch 10/10\n",
      "1563/1563 [==============================] - 13s 9ms/step - loss: 1.6390 - accuracy: 0.4044 - val_loss: 1.5123 - val_accuracy: 0.4538\n"
     ]
    }
   ],
   "source": [
    "# recreate and recompile the model (otherwise we continue learning)\n",
    "model = createMyModel()\n",
    "model.compile(loss=loss, optimizer=optimizer, metrics=['accuracy'])\n",
    "\n",
    "# show result on Test Data while training \n",
    "# we use test data as validation data to see direct results (usually NOT RECOMMENDED due to overfitting to the problem!)\n",
    "#validation_data = (test_img, test_image_labels_for_comparison)\n",
    "validation_data = (test_img, test_image_classes)\n",
    "\n",
    "history = model.fit(train_img, image_classes, batch_size=32, epochs=epochs, validation_data=validation_data) "
   ]
  },
  {
   "cell_type": "markdown",
   "metadata": {},
   "source": [
    "### Verifying Accuracy on Test Set"
   ]
  },
  {
   "cell_type": "code",
   "execution_count": 32,
   "metadata": {
    "collapsed": false
   },
   "outputs": [
    {
     "name": "stdout",
     "output_type": "stream",
     "text": [
      "313/313 [==============================] - 1s 4ms/step\n",
      "Accuracy on test set: 0.4538\n"
     ]
    }
   ],
   "source": [
    "# verify accuracy on test set\n",
    "predictions = model.predict(test_img)\n",
    "predicted_classes = np.argmax(predictions, axis=1)\n",
    "accuracy_on_test_set = accuracy_score(test_image_labels_for_comparison, predicted_classes)\n",
    "print('Accuracy on test set: ' + str(accuracy_on_test_set))"
   ]
  },
  {
   "cell_type": "markdown",
   "metadata": {},
   "source": [
    "### Plotting the Training Curve\n",
    "\n",
    "The `model.fit` function returns a history including the evolution of training and validation loss and accuracy. We can plot it to see a nice training curve."
   ]
  },
  {
   "cell_type": "code",
   "execution_count": 33,
   "metadata": {
    "collapsed": false
   },
   "outputs": [
    {
     "data": {
      "text/plain": [
       "dict_keys(['loss', 'accuracy', 'val_loss', 'val_accuracy'])"
      ]
     },
     "execution_count": 33,
     "metadata": {},
     "output_type": "execute_result"
    }
   ],
   "source": [
    "hist = history.history\n",
    "hist.keys()"
   ]
  },
  {
   "cell_type": "code",
   "execution_count": 34,
   "metadata": {
    "collapsed": false
   },
   "outputs": [
    {
     "data": {
      "text/plain": [
       "<matplotlib.legend.Legend at 0x25d4261ceb0>"
      ]
     },
     "execution_count": 34,
     "metadata": {},
     "output_type": "execute_result"
    },
    {
     "data": {
      "image/png": "[encoded data removed]",
      "text/plain": [
       "<Figure size 720x432 with 1 Axes>"
      ]
     },
     "metadata": {
      "needs_background": "light"
     },
     "output_type": "display_data"
    }
   ],
   "source": [
    "colors = {'loss':'r', 'accuracy':'b', 'val_loss':'m', 'val_accuracy':'g'}\n",
    "plt.figure(figsize=(10,6))\n",
    "plt.title(\"Training Curve\") \n",
    "plt.xlabel(\"Epoch\")\n",
    "\n",
    "for measure in hist.keys():\n",
    "    color = colors[measure]\n",
    "    plt.plot(range(1,epochs+1), hist[measure], color + '-', label=measure)  # use last 2 values to draw line\n",
    "\n",
    "plt.legend(loc='upper left', scatterpoints = 1, frameon=False)\n"
   ]
  },
  {
   "cell_type": "markdown",
   "metadata": {
    "collapsed": true
   },
   "source": [
    "# Data Augmentation\n",
    "\n",
    "Increase the training set by adding more images: Rotate, shift, flip and scale the original images to generate additional examples that will help the Neural Network to generalize better."
   ]
  },
  {
   "cell_type": "code",
   "execution_count": 35,
   "metadata": {
    "collapsed": true
   },
   "outputs": [],
   "source": [
    "from keras.preprocessing.image import ImageDataGenerator\n",
    "\n",
    "datagen = ImageDataGenerator(\n",
    "    rotation_range=20,\n",
    "    width_shift_range=0.2,\n",
    "    height_shift_range=0.2,\n",
    "    zoom_range=0.2,\n",
    "    horizontal_flip=True)"
   ]
  },
  {
   "cell_type": "code",
   "execution_count": 36,
   "metadata": {
    "collapsed": true
   },
   "outputs": [],
   "source": [
    "np.random.seed(random_state) # enforce repeatable result"
   ]
  },
  {
   "cell_type": "code",
   "execution_count": 37,
   "metadata": {
    "collapsed": false
   },
   "outputs": [
    {
     "name": "stdout",
     "output_type": "stream",
     "text": [
      "Epoch 1/10\n",
      "1563/1563 [==============================] - 76s 47ms/step - loss: 2.2622 - accuracy: 0.1522 - val_loss: 2.1898 - val_accuracy: 0.1878\n",
      "Epoch 2/10\n",
      "1563/1563 [==============================] - 69s 44ms/step - loss: 2.1898 - accuracy: 0.1896 - val_loss: 2.1218 - val_accuracy: 0.2256\n",
      "Epoch 3/10\n",
      "1563/1563 [==============================] - 45s 29ms/step - loss: 2.1407 - accuracy: 0.2116 - val_loss: 2.0464 - val_accuracy: 0.2527\n",
      "Epoch 4/10\n",
      "1563/1563 [==============================] - 53s 34ms/step - loss: 2.0940 - accuracy: 0.2289 - val_loss: 2.0038 - val_accuracy: 0.2655\n",
      "Epoch 5/10\n",
      "1563/1563 [==============================] - 78s 50ms/step - loss: 2.0533 - accuracy: 0.2468 - val_loss: 1.9575 - val_accuracy: 0.2866\n",
      "Epoch 6/10\n",
      "1563/1563 [==============================] - 25s 16ms/step - loss: 2.0285 - accuracy: 0.2535 - val_loss: 1.9434 - val_accuracy: 0.2930\n",
      "Epoch 7/10\n",
      "1563/1563 [==============================] - 28s 18ms/step - loss: 2.0093 - accuracy: 0.2604 - val_loss: 1.9333 - val_accuracy: 0.2963\n",
      "Epoch 8/10\n",
      "1563/1563 [==============================] - 32s 20ms/step - loss: 1.9972 - accuracy: 0.2651 - val_loss: 1.9492 - val_accuracy: 0.2887\n",
      "Epoch 9/10\n",
      "1563/1563 [==============================] - 37s 24ms/step - loss: 1.9835 - accuracy: 0.2689 - val_loss: 1.9596 - val_accuracy: 0.2849\n",
      "Epoch 10/10\n",
      "1563/1563 [==============================] - 38s 24ms/step - loss: 1.9755 - accuracy: 0.2723 - val_loss: 1.9246 - val_accuracy: 0.2887\n"
     ]
    }
   ],
   "source": [
    "# recreate and recompile the model (otherwise we continue learning)\n",
    "model = createMyModel()\n",
    "model.compile(loss=loss, optimizer=optimizer, metrics=['accuracy'])\n",
    "\n",
    "# fits the model on batches with real-time data augmentation:\n",
    "history = model.fit(datagen.flow(train_img, image_classes, batch_size=32),\n",
    "                    #steps_per_epoch=len(train_img),\n",
    "                    epochs=epochs,\n",
    "                    validation_data=validation_data) "
   ]
  },
  {
   "cell_type": "markdown",
   "metadata": {},
   "source": [
    "### Verifying Accuracy on Test Set (with Data Augmentation)"
   ]
  },
  {
   "cell_type": "code",
   "execution_count": 38,
   "metadata": {
    "collapsed": false
   },
   "outputs": [
    {
     "name": "stdout",
     "output_type": "stream",
     "text": [
      "313/313 [==============================] - 1s 2ms/step\n",
      "Accuracy on test set with augmentation: 0.2887\n"
     ]
    }
   ],
   "source": [
    "# verify accuracy on test set with augmentation\n",
    "predictions = model.predict(test_img)\n",
    "predicted_classes = np.argmax(predictions, axis=1)\n",
    "accuracy_on_test_set = accuracy_score(test_image_labels_for_comparison, predicted_classes)\n",
    "print('Accuracy on test set with augmentation: ' + str(accuracy_on_test_set))"
   ]
  },
  {
   "cell_type": "markdown",
   "metadata": {
    "collapsed": true
   },
   "source": [
    "### Plotting the Training Curve with Data Augmentation "
   ]
  },
  {
   "cell_type": "code",
   "execution_count": 39,
   "metadata": {
    "collapsed": false
   },
   "outputs": [
    {
     "data": {
      "text/plain": [
       "<matplotlib.legend.Legend at 0x25d425915e0>"
      ]
     },
     "execution_count": 39,
     "metadata": {},
     "output_type": "execute_result"
    },
    {
     "data": {
      "image/png": "[encoded data removed]",
      "text/plain": [
       "<Figure size 720x432 with 1 Axes>"
      ]
     },
     "metadata": {
      "needs_background": "light"
     },
     "output_type": "display_data"
    }
   ],
   "source": [
    "hist = history.history\n",
    "\n",
    "plt.figure(figsize=(10,6))\n",
    "plt.title(\"Training Curve\") \n",
    "plt.xlabel(\"Epoch\")\n",
    "\n",
    "for measure in hist.keys():\n",
    "    color = colors[measure]\n",
    "    plt.plot(range(1,epochs+1), hist[measure], color + '-', label=measure)  # use last 2 values to draw line\n",
    "\n",
    "plt.legend(loc='upper left', scatterpoints = 1, frameon=False)\n"
   ]
  },
  {
   "cell_type": "markdown",
   "metadata": {},
   "source": [
    "This graph is not ideal, but we see both training (blue) and validation (green) Accuracy going up, the training loss and validation loss going continuously down."
   ]
  }
 ],
 "metadata": {
  "kernelspec": {
   "display_name": "Python 3.8.5 ('base')",
   "language": "python",
   "name": "python3"
  },
  "language_info": {
   "codemirror_mode": {
    "name": "ipython",
    "version": 3
   },
   "file_extension": ".py",
   "mimetype": "text/x-python",
   "name": "python",
   "nbconvert_exporter": "python",
   "pygments_lexer": "ipython3",
   "version": "3.8.5"
  },
  "vscode": {
   "interpreter": {
    "hash": "ad2bdc8ecc057115af97d19610ffacc2b4e99fae6737bb82f5d7fb13d2f2c186"
   }
  }
 },
 "nbformat": 4,
 "nbformat_minor": 0
}
